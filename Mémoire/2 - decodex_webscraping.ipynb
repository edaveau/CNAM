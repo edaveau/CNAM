{
 "cells": [
  {
   "cell_type": "code",
   "execution_count": 1,
   "metadata": {},
   "outputs": [],
   "source": [
    "import pandas as pd\n",
    "import numpy as np\n",
    "import nbprogress\n",
    "import re\n",
    "\n",
    "from bs4 import BeautifulSoup\n",
    "from selenium import webdriver\n",
    "from selenium.webdriver.chrome.options import Options\n",
    "from datetime import datetime"
   ]
  },
  {
   "cell_type": "code",
   "execution_count": 2,
   "metadata": {},
   "outputs": [
    {
     "data": {
      "text/html": [
       "<div>\n",
       "<style scoped>\n",
       "    .dataframe tbody tr th:only-of-type {\n",
       "        vertical-align: middle;\n",
       "    }\n",
       "\n",
       "    .dataframe tbody tr th {\n",
       "        vertical-align: top;\n",
       "    }\n",
       "\n",
       "    .dataframe thead th {\n",
       "        text-align: right;\n",
       "    }\n",
       "</style>\n",
       "<table border=\"1\" class=\"dataframe\">\n",
       "  <thead>\n",
       "    <tr style=\"text-align: right;\">\n",
       "      <th></th>\n",
       "      <th>debunk_id</th>\n",
       "      <th>hoax_link</th>\n",
       "      <th>true_false</th>\n",
       "    </tr>\n",
       "  </thead>\n",
       "  <tbody>\n",
       "    <tr>\n",
       "      <td>0</td>\n",
       "      <td>1</td>\n",
       "      <td>http://www.paulomouvementcitoyen.com/2017/02/u...</td>\n",
       "      <td>FAUX</td>\n",
       "    </tr>\n",
       "    <tr>\n",
       "      <td>1</td>\n",
       "      <td>1</td>\n",
       "      <td>https://www.blog.sami-aldeeb.com/2017/02/06/pr...</td>\n",
       "      <td>FAUX</td>\n",
       "    </tr>\n",
       "    <tr>\n",
       "      <td>2</td>\n",
       "      <td>1</td>\n",
       "      <td>https://francaisdefrance.wordpress.com/2016/12...</td>\n",
       "      <td>FAUX</td>\n",
       "    </tr>\n",
       "    <tr>\n",
       "      <td>3</td>\n",
       "      <td>1</td>\n",
       "      <td>https://www.lemonde.fr/les-decodeurs/article/2...</td>\n",
       "      <td>VRAI</td>\n",
       "    </tr>\n",
       "    <tr>\n",
       "      <td>4</td>\n",
       "      <td>2</td>\n",
       "      <td>https://www.buzzbeed.com/macron-veut-faire-pay...</td>\n",
       "      <td>FAUX</td>\n",
       "    </tr>\n",
       "  </tbody>\n",
       "</table>\n",
       "</div>"
      ],
      "text/plain": [
       "   debunk_id                                          hoax_link true_false\n",
       "0          1  http://www.paulomouvementcitoyen.com/2017/02/u...       FAUX\n",
       "1          1  https://www.blog.sami-aldeeb.com/2017/02/06/pr...       FAUX\n",
       "2          1  https://francaisdefrance.wordpress.com/2016/12...       FAUX\n",
       "3          1  https://www.lemonde.fr/les-decodeurs/article/2...       VRAI\n",
       "4          2  https://www.buzzbeed.com/macron-veut-faire-pay...       FAUX"
      ]
     },
     "execution_count": 2,
     "metadata": {},
     "output_type": "execute_result"
    }
   ],
   "source": [
    "# Import our file\n",
    "df = pd.read_csv('data/df_webscraping_2020-04-13-111815.csv', header = 0, encoding = 'utf-8', sep = ',')\n",
    "df.head(5)"
   ]
  },
  {
   "cell_type": "code",
   "execution_count": 3,
   "metadata": {},
   "outputs": [],
   "source": [
    "# Here, we add the columns which we'll populate with the web scraper\n",
    "df['title'] = np.nan\n",
    "df['body'] = np.nan\n",
    "df['sources'] = np.nan"
   ]
  },
  {
   "cell_type": "code",
   "execution_count": 4,
   "metadata": {},
   "outputs": [],
   "source": [
    "def webscrape_decodex(df) :\n",
    "    \n",
    "    driver_path = 'app/chromedriver.exe'\n",
    "    brave_path = 'C:/Program Files (x86)/BraveSoftware/Brave-Browser/Application/brave.exe'\n",
    "\n",
    "    chrome_options = Options()\n",
    "    chrome_options.binary_location = brave_path\n",
    "    \n",
    "    row_number = np.where(pd.isnull(df['body']))[0][0]\n",
    "    erreurs = 0\n",
    "    \n",
    "    for idx, row in nbprogress.log(df.iterrows(), size = len(df)) :\n",
    "        if idx < row_number :\n",
    "            pass\n",
    "        else :\n",
    "            try :\n",
    "                browser = webdriver.Chrome(executable_path = driver_path, options = chrome_options)\n",
    "                url = row['hoax_link']\n",
    "                browser.get(url)\n",
    "                html_source = browser.page_source\n",
    "                browser.quit()\n",
    "                soup = BeautifulSoup(html_source, 'html.parser')\n",
    "                \n",
    "                #####################\n",
    "                ### Title Section ###\n",
    "                #####################\n",
    "                \n",
    "                try :\n",
    "                    title = soup.find('h1').text.strip()\n",
    "                except :\n",
    "                    title = ''\n",
    "                try :\n",
    "                    subtitle = soup.find('h2').text.strip()\n",
    "                except :\n",
    "                    subtitle = ''\n",
    "        \n",
    "                complete_title = title + subtitle\n",
    "                \n",
    "                ############################\n",
    "                ### Text Content Section ###\n",
    "                ############################\n",
    "                \n",
    "                text = ''\n",
    "                for p_tag in soup.find_all('p') :\n",
    "                    text = text + ' ' + p_tag.text.strip()\n",
    "                text = text.strip()\n",
    "                    \n",
    "                ########################\n",
    "                ### URL List Section ###\n",
    "                ########################\n",
    "                \n",
    "                url_list = ''\n",
    "                for link in soup.body.find_all('a', href=True):\n",
    "                    if re.search(r'http', link['href']) :\n",
    "                        url_list = link['href'] + ', '\n",
    "                url_list = url_list.strip()\n",
    "                url_list = url_list[:-1]\n",
    "                        \n",
    "                # Finally, we append those values in our dataframe\n",
    "                \n",
    "                df.loc[row_number, 'title'] = complete_title\n",
    "                df.loc[row_number, 'body'] = text\n",
    "                df.loc[row_number, 'sources'] = url_list\n",
    "                \n",
    "                row_number += 1\n",
    "                \n",
    "            except :\n",
    "                df.loc[row_number, 'title'] = 'Connection refused'\n",
    "                df.loc[row_number, 'body'] = 'Connection refused'\n",
    "                df.loc[row_number, 'sources'] = 'Connection refused'\n",
    "                \n",
    "                erreurs += 1\n",
    "                \n",
    "    print('Nombre d\\'erreurs rencontrées pendant le webscraping : ', erreurs)\n",
    "    \n",
    "    filename = './data/webscraped_data_' + datetime.now().strftime(\"%Y-%m-%d-%H%M%S.json\")\n",
    "    df.to_json(filename)\n",
    "    # Then open the file with pd.read_json (r'Path where you saved the JSON file\\File Name.json')"
   ]
  },
  {
   "cell_type": "code",
   "execution_count": 5,
   "metadata": {},
   "outputs": [
    {
     "data": {
      "application/vnd.jupyter.widget-view+json": {
       "model_id": "7421bf0caba04cafa12aab583d642ecc",
       "version_major": 2,
       "version_minor": 0
      },
      "text/plain": [
       "VBox(children=(HTML(value=''), IntProgress(value=0, max=2816)))"
      ]
     },
     "metadata": {},
     "output_type": "display_data"
    },
    {
     "name": "stdout",
     "output_type": "stream",
     "text": [
      "Nombre d'erreurs rencontrées pendant le webscraping :  12\n"
     ]
    },
    {
     "ename": "NameError",
     "evalue": "name 'datetime' is not defined",
     "output_type": "error",
     "traceback": [
      "\u001b[1;31m---------------------------------------------------------------------------\u001b[0m",
      "\u001b[1;31mNameError\u001b[0m                                 Traceback (most recent call last)",
      "\u001b[1;32m<ipython-input-5-ec7244a0e61d>\u001b[0m in \u001b[0;36m<module>\u001b[1;34m\u001b[0m\n\u001b[1;32m----> 1\u001b[1;33m \u001b[0mwebscrape_decodex\u001b[0m\u001b[1;33m(\u001b[0m\u001b[0mdf\u001b[0m\u001b[1;33m)\u001b[0m\u001b[1;33m\u001b[0m\u001b[1;33m\u001b[0m\u001b[0m\n\u001b[0m",
      "\u001b[1;32m<ipython-input-4-e726fdc90822>\u001b[0m in \u001b[0;36mwebscrape_decodex\u001b[1;34m(df)\u001b[0m\n\u001b[0;32m     74\u001b[0m     \u001b[0mprint\u001b[0m\u001b[1;33m(\u001b[0m\u001b[1;34m'Nombre d\\'erreurs rencontrées pendant le webscraping : '\u001b[0m\u001b[1;33m,\u001b[0m \u001b[0merreurs\u001b[0m\u001b[1;33m)\u001b[0m\u001b[1;33m\u001b[0m\u001b[1;33m\u001b[0m\u001b[0m\n\u001b[0;32m     75\u001b[0m \u001b[1;33m\u001b[0m\u001b[0m\n\u001b[1;32m---> 76\u001b[1;33m     \u001b[0mfilename\u001b[0m \u001b[1;33m=\u001b[0m \u001b[1;34m'./data/webscraped_data_'\u001b[0m \u001b[1;33m+\u001b[0m \u001b[0mdatetime\u001b[0m\u001b[1;33m.\u001b[0m\u001b[0mnow\u001b[0m\u001b[1;33m(\u001b[0m\u001b[1;33m)\u001b[0m\u001b[1;33m.\u001b[0m\u001b[0mstrftime\u001b[0m\u001b[1;33m(\u001b[0m\u001b[1;34m\"%Y-%m-%d-%H%M%S.csv\"\u001b[0m\u001b[1;33m)\u001b[0m\u001b[1;33m\u001b[0m\u001b[1;33m\u001b[0m\u001b[0m\n\u001b[0m\u001b[0;32m     77\u001b[0m     \u001b[0mdf\u001b[0m\u001b[1;33m.\u001b[0m\u001b[0mto_json\u001b[0m\u001b[1;33m(\u001b[0m\u001b[0mfilename\u001b[0m\u001b[1;33m)\u001b[0m\u001b[1;33m\u001b[0m\u001b[1;33m\u001b[0m\u001b[0m\n\u001b[0;32m     78\u001b[0m     \u001b[1;31m# Then open the file with pd.read_json (r'Path where you saved the JSON file\\File Name.json')\u001b[0m\u001b[1;33m\u001b[0m\u001b[1;33m\u001b[0m\u001b[1;33m\u001b[0m\u001b[0m\n",
      "\u001b[1;31mNameError\u001b[0m: name 'datetime' is not defined"
     ]
    }
   ],
   "source": [
    "webscrape_decodex(df)"
   ]
  },
  {
   "cell_type": "code",
   "execution_count": 6,
   "metadata": {},
   "outputs": [],
   "source": [
    "df.to_json('./data/webscraped_data.json')"
   ]
  }
 ],
 "metadata": {
  "kernelspec": {
   "display_name": "Python 3",
   "language": "python",
   "name": "python3"
  },
  "language_info": {
   "codemirror_mode": {
    "name": "ipython",
    "version": 3
   },
   "file_extension": ".py",
   "mimetype": "text/x-python",
   "name": "python",
   "nbconvert_exporter": "python",
   "pygments_lexer": "ipython3",
   "version": "3.7.4"
  }
 },
 "nbformat": 4,
 "nbformat_minor": 4
}
