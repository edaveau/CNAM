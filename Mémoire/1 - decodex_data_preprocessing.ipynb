{
 "cells": [
  {
   "cell_type": "code",
   "execution_count": 1,
   "metadata": {},
   "outputs": [],
   "source": [
    "# Import libraries\n",
    "import json\n",
    "import pandas as pd\n",
    "import matplotlib.pyplot as plt\n",
    "import numpy as np\n",
    "import seaborn as sns\n",
    "import tldextract\n",
    "import urllib.request\n",
    "\n",
    "from collections import Counter\n",
    "from datetime import datetime"
   ]
  },
  {
   "cell_type": "code",
   "execution_count": 2,
   "metadata": {},
   "outputs": [],
   "source": [
    "# Open the Décodex data which can be downloaded at\n",
    "# http://s1.lemde.fr/mmpub/data/decodex/hoax/hoax_debunks.json\n",
    "decodex_url = 'http://s1.lemde.fr/mmpub/data/decodex/hoax/hoax_debunks.json'\n",
    "with urllib.request.urlopen(decodex_url) as f:\n",
    "  df = json.load(f)"
   ]
  },
  {
   "cell_type": "code",
   "execution_count": 3,
   "metadata": {},
   "outputs": [
    {
     "name": "stdout",
     "output_type": "stream",
     "text": [
      "First debunk: [\"Ce prêtre a-t-il été agressé à Avignon en février 2017, sans que les médias n'en parlent ?\", 'FAUX', 'La rumeur fait référence à une vraie agression, mais qui date de mai 2013. Les faits ont alors été largement évoqués par de nombreux médias régionaux et nationaux.', 'https://www.lemonde.fr/les-decodeurs/article/2017/02/27/des-militants-denoncent-l-omerta-des-medias-sur-l-agression-d-un-pretre-a-avignon-qui-date-de-2013_5086287_4355770.html'] \n",
      "\n",
      "First Hoax: https://www.facebook.com/CorentinFNJ/posts/250959068694828\n"
     ]
    }
   ],
   "source": [
    "# The file is a dictionary with 2 main keys : debunks and hoaxes\n",
    "# debunks = debunk_number['What we think', 'True or False', 'What is known', 'Link to a more factual article']\n",
    "debunks = df['debunks']\n",
    "# hoaxes = {'hoax.address.com' : 'debunk_number'}\n",
    "hoaxes = df['hoaxes']\n",
    "print('First debunk:', debunks['1'], '\\n\\nFirst Hoax:', list(hoaxes.keys())[0])"
   ]
  },
  {
   "cell_type": "code",
   "execution_count": 4,
   "metadata": {},
   "outputs": [],
   "source": [
    "# We want the hoaxes to have a more regular format like {'hoax_number':['hoax1.address.com', 'hoax2.address.com']}\n",
    "hxs = {} \n",
    "for key, value in hoaxes.items(): \n",
    "   if value in hxs: \n",
    "       hxs[value].append(key) \n",
    "   else: \n",
    "       hxs[value]=[key] "
   ]
  },
  {
   "cell_type": "code",
   "execution_count": 5,
   "metadata": {
    "scrolled": true
   },
   "outputs": [
    {
     "data": {
      "text/plain": [
       "['https://www.facebook.com/CorentinFNJ/posts/250959068694828',\n",
       " 'http://www.paulomouvementcitoyen.com/2017/02/un-pretre-agresse-a-avignon.html',\n",
       " 'https://www.blog.sami-aldeeb.com/2017/02/06/pretre-agresse-a-avignon-si-ca-avait-ete-un-imam/',\n",
       " 'https://francaisdefrance.wordpress.com/2016/12/12/agression-dun-moine-hier-soir-silence-total-heureusement-il-y-a-internet/',\n",
       " 'https://www.facebook.com/10212204315883498/posts/10212140163199721',\n",
       " 'https://www.facebook.com/387841388254774/posts/383701835335396',\n",
       " 'https://twitter.com/MONSTERLOVE696/status/976170425272160258']"
      ]
     },
     "execution_count": 5,
     "metadata": {},
     "output_type": "execute_result"
    }
   ],
   "source": [
    "# Now our hoaxes dict is comprised of keys which correspond to the debunk_id\n",
    "# followed by a list of the links to the hoax posts\n",
    "hxs['1']"
   ]
  },
  {
   "cell_type": "code",
   "execution_count": 6,
   "metadata": {
    "scrolled": false
   },
   "outputs": [
    {
     "data": {
      "text/html": [
       "<div>\n",
       "<style scoped>\n",
       "    .dataframe tbody tr th:only-of-type {\n",
       "        vertical-align: middle;\n",
       "    }\n",
       "\n",
       "    .dataframe tbody tr th {\n",
       "        vertical-align: top;\n",
       "    }\n",
       "\n",
       "    .dataframe thead th {\n",
       "        text-align: right;\n",
       "    }\n",
       "</style>\n",
       "<table border=\"1\" class=\"dataframe\">\n",
       "  <thead>\n",
       "    <tr style=\"text-align: right;\">\n",
       "      <th></th>\n",
       "      <th>debunk_id</th>\n",
       "      <th>hoax_link</th>\n",
       "    </tr>\n",
       "  </thead>\n",
       "  <tbody>\n",
       "    <tr>\n",
       "      <td>0</td>\n",
       "      <td>1</td>\n",
       "      <td>https://www.facebook.com/CorentinFNJ/posts/250...</td>\n",
       "    </tr>\n",
       "    <tr>\n",
       "      <td>1</td>\n",
       "      <td>1</td>\n",
       "      <td>http://www.paulomouvementcitoyen.com/2017/02/u...</td>\n",
       "    </tr>\n",
       "    <tr>\n",
       "      <td>2</td>\n",
       "      <td>1</td>\n",
       "      <td>https://www.blog.sami-aldeeb.com/2017/02/06/pr...</td>\n",
       "    </tr>\n",
       "    <tr>\n",
       "      <td>3</td>\n",
       "      <td>1</td>\n",
       "      <td>https://francaisdefrance.wordpress.com/2016/12...</td>\n",
       "    </tr>\n",
       "    <tr>\n",
       "      <td>4</td>\n",
       "      <td>1</td>\n",
       "      <td>https://www.facebook.com/10212204315883498/pos...</td>\n",
       "    </tr>\n",
       "  </tbody>\n",
       "</table>\n",
       "</div>"
      ],
      "text/plain": [
       "  debunk_id                                          hoax_link\n",
       "0         1  https://www.facebook.com/CorentinFNJ/posts/250...\n",
       "1         1  http://www.paulomouvementcitoyen.com/2017/02/u...\n",
       "2         1  https://www.blog.sami-aldeeb.com/2017/02/06/pr...\n",
       "3         1  https://francaisdefrance.wordpress.com/2016/12...\n",
       "4         1  https://www.facebook.com/10212204315883498/pos..."
      ]
     },
     "execution_count": 6,
     "metadata": {},
     "output_type": "execute_result"
    }
   ],
   "source": [
    "# Now we can convert our hxs dict to a DataFrame\n",
    "df_hxs = pd.DataFrame.from_dict(hxs, orient='index')\n",
    "df_hxs = df_hxs.stack().to_frame().reset_index().drop('level_1', axis=1)\n",
    "df_hxs.columns = ['debunk_id', 'hoax_link']\n",
    "df_hxs.head(5)"
   ]
  },
  {
   "cell_type": "code",
   "execution_count": 7,
   "metadata": {
    "scrolled": false
   },
   "outputs": [
    {
     "data": {
      "text/html": [
       "<div>\n",
       "<style scoped>\n",
       "    .dataframe tbody tr th:only-of-type {\n",
       "        vertical-align: middle;\n",
       "    }\n",
       "\n",
       "    .dataframe tbody tr th {\n",
       "        vertical-align: top;\n",
       "    }\n",
       "\n",
       "    .dataframe thead th {\n",
       "        text-align: right;\n",
       "    }\n",
       "</style>\n",
       "<table border=\"1\" class=\"dataframe\">\n",
       "  <thead>\n",
       "    <tr style=\"text-align: right;\">\n",
       "      <th></th>\n",
       "      <th>hoax_summary</th>\n",
       "      <th>true_false</th>\n",
       "      <th>debunk_brief</th>\n",
       "      <th>debunk_link</th>\n",
       "    </tr>\n",
       "  </thead>\n",
       "  <tbody>\n",
       "    <tr>\n",
       "      <td>1</td>\n",
       "      <td>Ce prêtre a-t-il été agressé à Avignon en févr...</td>\n",
       "      <td>FAUX</td>\n",
       "      <td>La rumeur fait référence à une vraie agression...</td>\n",
       "      <td>https://www.lemonde.fr/les-decodeurs/article/2...</td>\n",
       "    </tr>\n",
       "    <tr>\n",
       "      <td>2</td>\n",
       "      <td>Emmanuel Macron a-t-il déclaré vouloir faire p...</td>\n",
       "      <td>FAUX</td>\n",
       "      <td>Il s'agit d'un article du site parodique BuzzB...</td>\n",
       "      <td>https://crosscheck.firstdraftnews.com/checked-...</td>\n",
       "    </tr>\n",
       "    <tr>\n",
       "      <td>3</td>\n",
       "      <td>Ce pompier a-t-il eu « l’œil crevé par une rac...</td>\n",
       "      <td>FAUX</td>\n",
       "      <td>Cette rumeur qui a circulé en février 2017 est...</td>\n",
       "      <td>https://www.lemonde.fr/les-decodeurs/article/2...</td>\n",
       "    </tr>\n",
       "    <tr>\n",
       "      <td>4</td>\n",
       "      <td>Un élu PS a-t-il été relaxé après un excès de ...</td>\n",
       "      <td>FAUX</td>\n",
       "      <td>Contrairement à ce que laisse entendre la rume...</td>\n",
       "      <td>https://www.lemonde.fr/les-decodeurs/article/2...</td>\n",
       "    </tr>\n",
       "    <tr>\n",
       "      <td>5</td>\n",
       "      <td>Les médias ont-ils caché l'affaire des « frais...</td>\n",
       "      <td>FAUX</td>\n",
       "      <td>Contrairement à ce que les rumeurs qui circule...</td>\n",
       "      <td>https://www.lemonde.fr/les-decodeurs/article/2...</td>\n",
       "    </tr>\n",
       "  </tbody>\n",
       "</table>\n",
       "</div>"
      ],
      "text/plain": [
       "                                        hoax_summary true_false  \\\n",
       "1  Ce prêtre a-t-il été agressé à Avignon en févr...       FAUX   \n",
       "2  Emmanuel Macron a-t-il déclaré vouloir faire p...       FAUX   \n",
       "3  Ce pompier a-t-il eu « l’œil crevé par une rac...       FAUX   \n",
       "4  Un élu PS a-t-il été relaxé après un excès de ...       FAUX   \n",
       "5  Les médias ont-ils caché l'affaire des « frais...       FAUX   \n",
       "\n",
       "                                        debunk_brief  \\\n",
       "1  La rumeur fait référence à une vraie agression...   \n",
       "2  Il s'agit d'un article du site parodique BuzzB...   \n",
       "3  Cette rumeur qui a circulé en février 2017 est...   \n",
       "4  Contrairement à ce que laisse entendre la rume...   \n",
       "5  Contrairement à ce que les rumeurs qui circule...   \n",
       "\n",
       "                                         debunk_link  \n",
       "1  https://www.lemonde.fr/les-decodeurs/article/2...  \n",
       "2  https://crosscheck.firstdraftnews.com/checked-...  \n",
       "3  https://www.lemonde.fr/les-decodeurs/article/2...  \n",
       "4  https://www.lemonde.fr/les-decodeurs/article/2...  \n",
       "5  https://www.lemonde.fr/les-decodeurs/article/2...  "
      ]
     },
     "execution_count": 7,
     "metadata": {},
     "output_type": "execute_result"
    }
   ],
   "source": [
    "# We can do the same for the debunks dict\n",
    "df_dbnk = pd.DataFrame.from_dict(debunks, orient='index',\n",
    "                                 columns = ['hoax_summary', 'true_false', 'debunk_brief', 'debunk_link'])\n",
    "df_dbnk.head(5)"
   ]
  },
  {
   "cell_type": "code",
   "execution_count": 8,
   "metadata": {},
   "outputs": [
    {
     "data": {
      "text/html": [
       "<div>\n",
       "<style scoped>\n",
       "    .dataframe tbody tr th:only-of-type {\n",
       "        vertical-align: middle;\n",
       "    }\n",
       "\n",
       "    .dataframe tbody tr th {\n",
       "        vertical-align: top;\n",
       "    }\n",
       "\n",
       "    .dataframe thead th {\n",
       "        text-align: right;\n",
       "    }\n",
       "</style>\n",
       "<table border=\"1\" class=\"dataframe\">\n",
       "  <thead>\n",
       "    <tr style=\"text-align: right;\">\n",
       "      <th></th>\n",
       "      <th>hoax_summary</th>\n",
       "      <th>true_false</th>\n",
       "      <th>debunk_brief</th>\n",
       "      <th>debunk_link</th>\n",
       "      <th>debunk_id</th>\n",
       "    </tr>\n",
       "  </thead>\n",
       "  <tbody>\n",
       "    <tr>\n",
       "      <td>1</td>\n",
       "      <td>Ce prêtre a-t-il été agressé à Avignon en févr...</td>\n",
       "      <td>FAUX</td>\n",
       "      <td>La rumeur fait référence à une vraie agression...</td>\n",
       "      <td>https://www.lemonde.fr/les-decodeurs/article/2...</td>\n",
       "      <td>1</td>\n",
       "    </tr>\n",
       "    <tr>\n",
       "      <td>2</td>\n",
       "      <td>Emmanuel Macron a-t-il déclaré vouloir faire p...</td>\n",
       "      <td>FAUX</td>\n",
       "      <td>Il s'agit d'un article du site parodique BuzzB...</td>\n",
       "      <td>https://crosscheck.firstdraftnews.com/checked-...</td>\n",
       "      <td>2</td>\n",
       "    </tr>\n",
       "    <tr>\n",
       "      <td>3</td>\n",
       "      <td>Ce pompier a-t-il eu « l’œil crevé par une rac...</td>\n",
       "      <td>FAUX</td>\n",
       "      <td>Cette rumeur qui a circulé en février 2017 est...</td>\n",
       "      <td>https://www.lemonde.fr/les-decodeurs/article/2...</td>\n",
       "      <td>3</td>\n",
       "    </tr>\n",
       "    <tr>\n",
       "      <td>4</td>\n",
       "      <td>Un élu PS a-t-il été relaxé après un excès de ...</td>\n",
       "      <td>FAUX</td>\n",
       "      <td>Contrairement à ce que laisse entendre la rume...</td>\n",
       "      <td>https://www.lemonde.fr/les-decodeurs/article/2...</td>\n",
       "      <td>4</td>\n",
       "    </tr>\n",
       "    <tr>\n",
       "      <td>5</td>\n",
       "      <td>Les médias ont-ils caché l'affaire des « frais...</td>\n",
       "      <td>FAUX</td>\n",
       "      <td>Contrairement à ce que les rumeurs qui circule...</td>\n",
       "      <td>https://www.lemonde.fr/les-decodeurs/article/2...</td>\n",
       "      <td>5</td>\n",
       "    </tr>\n",
       "  </tbody>\n",
       "</table>\n",
       "</div>"
      ],
      "text/plain": [
       "                                        hoax_summary true_false  \\\n",
       "1  Ce prêtre a-t-il été agressé à Avignon en févr...       FAUX   \n",
       "2  Emmanuel Macron a-t-il déclaré vouloir faire p...       FAUX   \n",
       "3  Ce pompier a-t-il eu « l’œil crevé par une rac...       FAUX   \n",
       "4  Un élu PS a-t-il été relaxé après un excès de ...       FAUX   \n",
       "5  Les médias ont-ils caché l'affaire des « frais...       FAUX   \n",
       "\n",
       "                                        debunk_brief  \\\n",
       "1  La rumeur fait référence à une vraie agression...   \n",
       "2  Il s'agit d'un article du site parodique BuzzB...   \n",
       "3  Cette rumeur qui a circulé en février 2017 est...   \n",
       "4  Contrairement à ce que laisse entendre la rume...   \n",
       "5  Contrairement à ce que les rumeurs qui circule...   \n",
       "\n",
       "                                         debunk_link debunk_id  \n",
       "1  https://www.lemonde.fr/les-decodeurs/article/2...         1  \n",
       "2  https://crosscheck.firstdraftnews.com/checked-...         2  \n",
       "3  https://www.lemonde.fr/les-decodeurs/article/2...         3  \n",
       "4  https://www.lemonde.fr/les-decodeurs/article/2...         4  \n",
       "5  https://www.lemonde.fr/les-decodeurs/article/2...         5  "
      ]
     },
     "execution_count": 8,
     "metadata": {},
     "output_type": "execute_result"
    }
   ],
   "source": [
    "# Since the index value is based on our dict key, we can now pass it as an id column\n",
    "df_dbnk['debunk_id'] = df_dbnk.index\n",
    "df_dbnk.head(5)"
   ]
  },
  {
   "cell_type": "code",
   "execution_count": 9,
   "metadata": {
    "scrolled": false
   },
   "outputs": [
    {
     "data": {
      "text/html": [
       "<div>\n",
       "<style scoped>\n",
       "    .dataframe tbody tr th:only-of-type {\n",
       "        vertical-align: middle;\n",
       "    }\n",
       "\n",
       "    .dataframe tbody tr th {\n",
       "        vertical-align: top;\n",
       "    }\n",
       "\n",
       "    .dataframe thead th {\n",
       "        text-align: right;\n",
       "    }\n",
       "</style>\n",
       "<table border=\"1\" class=\"dataframe\">\n",
       "  <thead>\n",
       "    <tr style=\"text-align: right;\">\n",
       "      <th></th>\n",
       "      <th>debunk_id</th>\n",
       "      <th>hoax_link</th>\n",
       "      <th>true_false</th>\n",
       "    </tr>\n",
       "  </thead>\n",
       "  <tbody>\n",
       "    <tr>\n",
       "      <td>0</td>\n",
       "      <td>1</td>\n",
       "      <td>https://www.facebook.com/CorentinFNJ/posts/250...</td>\n",
       "      <td>FAUX</td>\n",
       "    </tr>\n",
       "    <tr>\n",
       "      <td>1</td>\n",
       "      <td>1</td>\n",
       "      <td>http://www.paulomouvementcitoyen.com/2017/02/u...</td>\n",
       "      <td>FAUX</td>\n",
       "    </tr>\n",
       "    <tr>\n",
       "      <td>2</td>\n",
       "      <td>1</td>\n",
       "      <td>https://www.blog.sami-aldeeb.com/2017/02/06/pr...</td>\n",
       "      <td>FAUX</td>\n",
       "    </tr>\n",
       "    <tr>\n",
       "      <td>3</td>\n",
       "      <td>1</td>\n",
       "      <td>https://francaisdefrance.wordpress.com/2016/12...</td>\n",
       "      <td>FAUX</td>\n",
       "    </tr>\n",
       "    <tr>\n",
       "      <td>4</td>\n",
       "      <td>1</td>\n",
       "      <td>https://www.facebook.com/10212204315883498/pos...</td>\n",
       "      <td>FAUX</td>\n",
       "    </tr>\n",
       "  </tbody>\n",
       "</table>\n",
       "</div>"
      ],
      "text/plain": [
       "  debunk_id                                          hoax_link true_false\n",
       "0         1  https://www.facebook.com/CorentinFNJ/posts/250...       FAUX\n",
       "1         1  http://www.paulomouvementcitoyen.com/2017/02/u...       FAUX\n",
       "2         1  https://www.blog.sami-aldeeb.com/2017/02/06/pr...       FAUX\n",
       "3         1  https://francaisdefrance.wordpress.com/2016/12...       FAUX\n",
       "4         1  https://www.facebook.com/10212204315883498/pos...       FAUX"
      ]
     },
     "execution_count": 9,
     "metadata": {},
     "output_type": "execute_result"
    }
   ],
   "source": [
    "# Now we need to merge the true_false column to the hoaxes DataFrame\n",
    "df_webs = pd.merge(df_hxs, df_dbnk[['debunk_id', 'true_false']], on = 'debunk_id', how = \"left\")\n",
    "df_webs.head(5)"
   ]
  },
  {
   "cell_type": "code",
   "execution_count": 10,
   "metadata": {},
   "outputs": [
    {
     "name": "stdout",
     "output_type": "stream",
     "text": [
      "Unique values in true_false categorization before processing: ['FAUX' 'CONTESTABLE' 'DOUTEUX' 'TROMPEUR' 'C’est plus compliqué'\n",
      " 'Trompeur' 'PRUDENCE']\n",
      "Unique values in true_false categorization after processing: ['FAUX' 'CONTESTABLE' 'TROMPEUR']\n"
     ]
    }
   ],
   "source": [
    "# Find the unique values in the true_false column\n",
    "print('Unique values in true_false categorization before processing:', df_webs.true_false.unique())\n",
    "\n",
    "# Replace these to have fewer categories\n",
    "df_webs = df_webs.replace(\n",
    "    'C’est plus compliqué', 'CONTESTABLE').replace(\n",
    "    'Trompeur', 'TROMPEUR').replace(\n",
    "    'Prudence', 'CONTESTABLE').replace(\n",
    "    'PRUDENCE', 'CONTESTABLE').replace(\n",
    "    'DOUTEUX', 'TROMPEUR')\n",
    "\n",
    "print('Unique values in true_false categorization after processing:', df_webs.true_false.unique())"
   ]
  },
  {
   "cell_type": "code",
   "execution_count": 11,
   "metadata": {
    "scrolled": true
   },
   "outputs": [],
   "source": [
    "# Add the link to the articles which tell the true story\n",
    "# We'll label those as 'VRAI'\n",
    "pd.options.mode.chained_assignment = None\n",
    "tmp_dbnk = df_dbnk[['debunk_id', 'debunk_link']]\n",
    "tmp_dbnk.columns = ['debunk_id', 'hoax_link']\n",
    "tmp_dbnk['true_false'] = 'VRAI'"
   ]
  },
  {
   "cell_type": "code",
   "execution_count": 12,
   "metadata": {},
   "outputs": [
    {
     "data": {
      "text/html": [
       "<div>\n",
       "<style scoped>\n",
       "    .dataframe tbody tr th:only-of-type {\n",
       "        vertical-align: middle;\n",
       "    }\n",
       "\n",
       "    .dataframe tbody tr th {\n",
       "        vertical-align: top;\n",
       "    }\n",
       "\n",
       "    .dataframe thead th {\n",
       "        text-align: right;\n",
       "    }\n",
       "</style>\n",
       "<table border=\"1\" class=\"dataframe\">\n",
       "  <thead>\n",
       "    <tr style=\"text-align: right;\">\n",
       "      <th></th>\n",
       "      <th>debunk_id</th>\n",
       "      <th>hoax_link</th>\n",
       "      <th>true_false</th>\n",
       "    </tr>\n",
       "  </thead>\n",
       "  <tbody>\n",
       "    <tr>\n",
       "      <td>0</td>\n",
       "      <td>1</td>\n",
       "      <td>https://www.facebook.com/CorentinFNJ/posts/250...</td>\n",
       "      <td>FAUX</td>\n",
       "    </tr>\n",
       "    <tr>\n",
       "      <td>1</td>\n",
       "      <td>1</td>\n",
       "      <td>http://www.paulomouvementcitoyen.com/2017/02/u...</td>\n",
       "      <td>FAUX</td>\n",
       "    </tr>\n",
       "    <tr>\n",
       "      <td>2</td>\n",
       "      <td>1</td>\n",
       "      <td>https://www.blog.sami-aldeeb.com/2017/02/06/pr...</td>\n",
       "      <td>FAUX</td>\n",
       "    </tr>\n",
       "    <tr>\n",
       "      <td>3</td>\n",
       "      <td>1</td>\n",
       "      <td>https://francaisdefrance.wordpress.com/2016/12...</td>\n",
       "      <td>FAUX</td>\n",
       "    </tr>\n",
       "    <tr>\n",
       "      <td>4</td>\n",
       "      <td>1</td>\n",
       "      <td>https://www.facebook.com/10212204315883498/pos...</td>\n",
       "      <td>FAUX</td>\n",
       "    </tr>\n",
       "    <tr>\n",
       "      <td>5</td>\n",
       "      <td>1</td>\n",
       "      <td>https://www.facebook.com/387841388254774/posts...</td>\n",
       "      <td>FAUX</td>\n",
       "    </tr>\n",
       "    <tr>\n",
       "      <td>6</td>\n",
       "      <td>1</td>\n",
       "      <td>https://twitter.com/MONSTERLOVE696/status/9761...</td>\n",
       "      <td>FAUX</td>\n",
       "    </tr>\n",
       "    <tr>\n",
       "      <td>7</td>\n",
       "      <td>1</td>\n",
       "      <td>https://www.lemonde.fr/les-decodeurs/article/2...</td>\n",
       "      <td>VRAI</td>\n",
       "    </tr>\n",
       "    <tr>\n",
       "      <td>8</td>\n",
       "      <td>2</td>\n",
       "      <td>https://www.facebook.com/439281732799406/posts...</td>\n",
       "      <td>FAUX</td>\n",
       "    </tr>\n",
       "    <tr>\n",
       "      <td>9</td>\n",
       "      <td>2</td>\n",
       "      <td>https://www.facebook.com/PorteTesCouilles2/pos...</td>\n",
       "      <td>FAUX</td>\n",
       "    </tr>\n",
       "  </tbody>\n",
       "</table>\n",
       "</div>"
      ],
      "text/plain": [
       "   debunk_id                                          hoax_link true_false\n",
       "0          1  https://www.facebook.com/CorentinFNJ/posts/250...       FAUX\n",
       "1          1  http://www.paulomouvementcitoyen.com/2017/02/u...       FAUX\n",
       "2          1  https://www.blog.sami-aldeeb.com/2017/02/06/pr...       FAUX\n",
       "3          1  https://francaisdefrance.wordpress.com/2016/12...       FAUX\n",
       "4          1  https://www.facebook.com/10212204315883498/pos...       FAUX\n",
       "5          1  https://www.facebook.com/387841388254774/posts...       FAUX\n",
       "6          1  https://twitter.com/MONSTERLOVE696/status/9761...       FAUX\n",
       "7          1  https://www.lemonde.fr/les-decodeurs/article/2...       VRAI\n",
       "8          2  https://www.facebook.com/439281732799406/posts...       FAUX\n",
       "9          2  https://www.facebook.com/PorteTesCouilles2/pos...       FAUX"
      ]
     },
     "execution_count": 12,
     "metadata": {},
     "output_type": "execute_result"
    }
   ],
   "source": [
    "# Then we can bind the rows of this df to the df_webs\n",
    "df_webs = df_webs.append(tmp_dbnk, sort = False)\n",
    "df_webs['debunk_id'] = pd.to_numeric(df_webs['debunk_id'])\n",
    "df_webs = df_webs.sort_values('debunk_id').reset_index(drop=True)\n",
    "\n",
    "df_webs.head(10)"
   ]
  },
  {
   "cell_type": "code",
   "execution_count": 13,
   "metadata": {
    "scrolled": false
   },
   "outputs": [
    {
     "name": "stdout",
     "output_type": "stream",
     "text": [
      "Nombre d'articles uniques présents dans le Décodex : 13450 \n",
      " \u001b[1m Articles présents en doublon dans la base : \u001b[0m\n",
      "Lien : https://www.lemonde.fr/les-decodeurs/article/2017/03/01/intox-en-serie-sur-des-pages-facebook-d-extreme-droite_5087453_4355770.html - Nombre d'occurences : 3\n",
      "Lien : https://www.lemonde.fr/les-decodeurs/article/2016/09/09/les-invraisemblables-intox-sur-la-sante-de-hillary-clinton_4995400_4355770.html - Nombre d'occurences : 3\n",
      "Lien : https://www.lemonde.fr/les-decodeurs/article/2017/04/12/bombardement-chimique-de-khan-cheikhoun-en-syrie-les-intox-a-l-epreuve-des-faits_5110175_4355770.html - Nombre d'occurences : 2\n",
      "Lien : https://www.lemonde.fr/les-decodeurs/article/2017/04/21/etudes-bidons-rumeurs-boules-puantes-le-grand-n-importe-quoi-de-fin-de-campagne_5115237_4355770.html - Nombre d'occurences : 4\n",
      "Lien : https://www.lemonde.fr/les-decodeurs/article/2017/07/11/antivaccins-des-mensonges-dans-un-debat-legitime_5159187_4355770.html - Nombre d'occurences : 4\n",
      "Lien : https://www.lemonde.fr/les-decodeurs/article/2016/11/07/les-intox-du-fn-sur-les-privileges-des-migrants-face-aux-francais_5026857_4355770.html - Nombre d'occurences : 2\n",
      "Lien : https://www.bfmtv.com/mediaplayer/video/ouragan-irma-il-y-a-un-manque-de-maturite-un-manque-du-sens-du-deploiement-de-l-etat-gilbert-collard-979363.html - Nombre d'occurences : 2\n",
      "Lien : https://www.lemonde.fr/les-decodeurs/article/2018/09/17/rafales-de-canulars-et-videos-detournees-sur-la-tempete-florence-et-le-typhon-mangkhut_5356361_4355770.html - Nombre d'occurences : 2\n",
      "Lien : https://www.lemonde.fr/les-decodeurs/article/2019/03/11/equipage-feminin-turbulences-filmees-fausses-photos-trois-intox-sur-le-crash-d-ethiopian-airlines_5434477_4355770.html - Nombre d'occurences : 3\n"
     ]
    }
   ],
   "source": [
    "# Now that we have a clean dataframe with all the links to the articles\n",
    "# we can check if some articles are present more than once\n",
    "ids = df_webs['hoax_link']\n",
    "duplicate_articles = df_webs[ids.isin(ids[ids.duplicated()])]\n",
    "dup_articles_list = dict(Counter(duplicate_articles['hoax_link']))\n",
    "print('Nombre d\\'articles uniques présents dans le Décodex :', len(set(df_webs['hoax_link'])),\n",
    "     '\\n', '\\x1b[1m', 'Articles présents en doublon dans la base :', '\\x1b[0m')\n",
    "for link, count in dup_articles_list.items() :\n",
    "    print('Lien :', link, '- Nombre d\\'occurences :', count)"
   ]
  },
  {
   "cell_type": "code",
   "execution_count": 14,
   "metadata": {},
   "outputs": [
    {
     "data": {
      "text/html": [
       "<style  type=\"text/css\" >\n",
       "</style><table id=\"T_b3eb7efe_7d67_11ea_a092_2c6e852451c0\" ><thead>    <tr>        <th class=\"col_heading level0 col0\" >url</th>        <th class=\"col_heading level0 col1\" >count</th>    </tr></thead><tbody>\n",
       "                <tr>\n",
       "                                <td id=\"T_b3eb7efe_7d67_11ea_a092_2c6e852451c0row0_col0\" class=\"data row0 col0\" >facebook</td>\n",
       "                        <td id=\"T_b3eb7efe_7d67_11ea_a092_2c6e852451c0row0_col1\" class=\"data row0 col1\" >9597</td>\n",
       "            </tr>\n",
       "            <tr>\n",
       "                                <td id=\"T_b3eb7efe_7d67_11ea_a092_2c6e852451c0row1_col0\" class=\"data row1 col0\" >twitter</td>\n",
       "                        <td id=\"T_b3eb7efe_7d67_11ea_a092_2c6e852451c0row1_col1\" class=\"data row1 col1\" >658</td>\n",
       "            </tr>\n",
       "            <tr>\n",
       "                                <td id=\"T_b3eb7efe_7d67_11ea_a092_2c6e852451c0row2_col0\" class=\"data row2 col0\" >lemonde</td>\n",
       "                        <td id=\"T_b3eb7efe_7d67_11ea_a092_2c6e852451c0row2_col1\" class=\"data row2 col1\" >390</td>\n",
       "            </tr>\n",
       "            <tr>\n",
       "                                <td id=\"T_b3eb7efe_7d67_11ea_a092_2c6e852451c0row3_col0\" class=\"data row3 col0\" >youtube</td>\n",
       "                        <td id=\"T_b3eb7efe_7d67_11ea_a092_2c6e852451c0row3_col1\" class=\"data row3 col1\" >137</td>\n",
       "            </tr>\n",
       "            <tr>\n",
       "                                <td id=\"T_b3eb7efe_7d67_11ea_a092_2c6e852451c0row4_col0\" class=\"data row4 col0\" >redd</td>\n",
       "                        <td id=\"T_b3eb7efe_7d67_11ea_a092_2c6e852451c0row4_col1\" class=\"data row4 col1\" >77</td>\n",
       "            </tr>\n",
       "            <tr>\n",
       "                                <td id=\"T_b3eb7efe_7d67_11ea_a092_2c6e852451c0row5_col0\" class=\"data row5 col0\" >blogspot</td>\n",
       "                        <td id=\"T_b3eb7efe_7d67_11ea_a092_2c6e852451c0row5_col1\" class=\"data row5 col1\" >66</td>\n",
       "            </tr>\n",
       "            <tr>\n",
       "                                <td id=\"T_b3eb7efe_7d67_11ea_a092_2c6e852451c0row6_col0\" class=\"data row6 col0\" >wordpress</td>\n",
       "                        <td id=\"T_b3eb7efe_7d67_11ea_a092_2c6e852451c0row6_col1\" class=\"data row6 col1\" >54</td>\n",
       "            </tr>\n",
       "            <tr>\n",
       "                                <td id=\"T_b3eb7efe_7d67_11ea_a092_2c6e852451c0row7_col0\" class=\"data row7 col0\" >over-blog</td>\n",
       "                        <td id=\"T_b3eb7efe_7d67_11ea_a092_2c6e852451c0row7_col1\" class=\"data row7 col1\" >53</td>\n",
       "            </tr>\n",
       "            <tr>\n",
       "                                <td id=\"T_b3eb7efe_7d67_11ea_a092_2c6e852451c0row8_col0\" class=\"data row8 col0\" >lagauchematuer</td>\n",
       "                        <td id=\"T_b3eb7efe_7d67_11ea_a092_2c6e852451c0row8_col1\" class=\"data row8 col1\" >31</td>\n",
       "            </tr>\n",
       "            <tr>\n",
       "                                <td id=\"T_b3eb7efe_7d67_11ea_a092_2c6e852451c0row9_col0\" class=\"data row9 col0\" >wikistrike</td>\n",
       "                        <td id=\"T_b3eb7efe_7d67_11ea_a092_2c6e852451c0row9_col1\" class=\"data row9 col1\" >30</td>\n",
       "            </tr>\n",
       "    </tbody></table>"
      ],
      "text/plain": [
       "<pandas.io.formats.style.Styler at 0x236a4674c48>"
      ]
     },
     "execution_count": 14,
     "metadata": {},
     "output_type": "execute_result"
    }
   ],
   "source": [
    "# Here, we check for the most used sources of information\n",
    "# First, we extract the url using tldextract, then we count the number of occurences for each of these\n",
    "most_used_links = Counter(ids.apply(lambda url: tldextract.extract(url).domain))\n",
    "mul_df = pd.DataFrame.from_dict(most_used_links, orient='index').reset_index()\n",
    "mul_df.columns = ['url', 'count']\n",
    "mul_df = mul_df.sort_values(by=['count'], ascending=False)\n",
    "mul_df.head(10).style.hide_index()"
   ]
  },
  {
   "cell_type": "code",
   "execution_count": 15,
   "metadata": {},
   "outputs": [
    {
     "name": "stdout",
     "output_type": "stream",
     "text": [
      "Nombre de sources différentes : 1186\n"
     ]
    }
   ],
   "source": [
    "print('Nombre de sources différentes :', len(mul_df))\n",
    "\n",
    "# Since there are many different information sources, we will only keep the 10 most represented and\n",
    "# concatenate the rest under the 'Autres' category\n",
    "mul_df_plot = mul_df.copy()\n",
    "mul_df_plot['url'] = np.where(mul_df_plot['count'] < 30, 'Autres', mul_df_plot['url'])\n",
    "mul_df_plot = mul_df_plot.groupby(by=['url']).sum().sort_values(by=['count'], ascending=False).reset_index()\n",
    "mul_df_plot['perc']= mul_df_plot['count']*100/mul_df_plot['count'].sum()"
   ]
  },
  {
   "cell_type": "code",
   "execution_count": 16,
   "metadata": {},
   "outputs": [
    {
     "data": {
      "text/plain": [
       "[Text(0, 0.5, ''), Text(0.5, 0, \"Nombre d'articles (en %)\")]"
      ]
     },
     "execution_count": 16,
     "metadata": {},
     "output_type": "execute_result"
    },
    {
     "data": {
      "image/png": "[encoded data removed]",
      "text/plain": [
       "<Figure size 648x432 with 1 Axes>"
      ]
     },
     "metadata": {},
     "output_type": "display_data"
    }
   ],
   "source": [
    "sns.set(style = 'whitegrid')\n",
    "\n",
    "# Initialize the matplotlib figure\n",
    "f, ax = plt.subplots(figsize = (9, 6))\n",
    "\n",
    "# Plot the information sources\n",
    "sns.set_color_codes('muted')\n",
    "sns.barplot(x = 'perc', y = 'url', data = mul_df_plot,\n",
    "            label = 'Total', color = 'b').set_title('Nombre d\\'articles par sources', fontsize = 18)\n",
    "\n",
    "# Add an informative axis label\n",
    "ax.set(ylabel = '',\n",
    "       xlabel = 'Nombre d\\'articles (en %)')"
   ]
  },
  {
   "cell_type": "code",
   "execution_count": 17,
   "metadata": {},
   "outputs": [],
   "source": [
    "# Here we'll drop the rows where the dns is equal to Facebook, Twitter, Youtube or Reddit\n",
    "# First, we add the url column to df_webs\n",
    "df_webs['url_dns'] = df_webs['hoax_link'].apply(lambda url: tldextract.extract(url).domain)\n",
    "\n",
    "# Then we filter the rows containing the websites we do not want to scrape.\n",
    "rows_to_rm = ['facebook', 'twitter', 'youtube', 'redd']\n",
    "df_webscraping = df_webs[~df_webs['url_dns'].isin(rows_to_rm)].reset_index().drop('index', axis=1).drop('url_dns', axis=1)  \n",
    "df_webscraping.head(5)\n",
    "\n",
    "# We also filter the debunk_ids which are only equal to 1 (which means there were only social networks \n",
    "# links in the hoaxes document and only the debunk remains)\n",
    "df_webscraping = df_webscraping.groupby('debunk_id')\n",
    "df_webscraping = df_webscraping.filter(lambda x: len(x) > 1)"
   ]
  },
  {
   "cell_type": "code",
   "execution_count": 18,
   "metadata": {},
   "outputs": [
    {
     "data": {
      "text/plain": [
       "<seaborn.axisgrid.FacetGrid at 0x236a45d8108>"
      ]
     },
     "execution_count": 18,
     "metadata": {},
     "output_type": "execute_result"
    },
    {
     "data": {
      "image/png": "[encoded data removed]",
      "text/plain": [
       "<Figure size 360x360 with 1 Axes>"
      ]
     },
     "metadata": {},
     "output_type": "display_data"
    }
   ],
   "source": [
    "# Finally, we must take a look at our label to see the class imbalance and\n",
    "sns.set(style = 'whitegrid')\n",
    "\n",
    "# Plot the information sources\n",
    "sns.catplot(x = 'true_false', \n",
    "            kind = 'count', \n",
    "            palette = 'cubehelix', \n",
    "            data=df_webscraping).set(title = 'Répartition des catégories du label', \n",
    "                                     xlabel = 'Label', \n",
    "                                     ylabel = 'Nombre d\\'observations')"
   ]
  },
  {
   "cell_type": "code",
   "execution_count": 19,
   "metadata": {},
   "outputs": [
    {
     "data": {
      "text/html": [
       "<div>\n",
       "<style scoped>\n",
       "    .dataframe tbody tr th:only-of-type {\n",
       "        vertical-align: middle;\n",
       "    }\n",
       "\n",
       "    .dataframe tbody tr th {\n",
       "        vertical-align: top;\n",
       "    }\n",
       "\n",
       "    .dataframe thead th {\n",
       "        text-align: right;\n",
       "    }\n",
       "</style>\n",
       "<table border=\"1\" class=\"dataframe\">\n",
       "  <thead>\n",
       "    <tr style=\"text-align: right;\">\n",
       "      <th></th>\n",
       "      <th>debunk_id</th>\n",
       "      <th>hoax_link</th>\n",
       "      <th>true_false</th>\n",
       "    </tr>\n",
       "  </thead>\n",
       "  <tbody>\n",
       "    <tr>\n",
       "      <td>0</td>\n",
       "      <td>1</td>\n",
       "      <td>http://www.paulomouvementcitoyen.com/2017/02/u...</td>\n",
       "      <td>FAUX</td>\n",
       "    </tr>\n",
       "    <tr>\n",
       "      <td>1</td>\n",
       "      <td>1</td>\n",
       "      <td>https://www.blog.sami-aldeeb.com/2017/02/06/pr...</td>\n",
       "      <td>FAUX</td>\n",
       "    </tr>\n",
       "    <tr>\n",
       "      <td>2</td>\n",
       "      <td>1</td>\n",
       "      <td>https://francaisdefrance.wordpress.com/2016/12...</td>\n",
       "      <td>FAUX</td>\n",
       "    </tr>\n",
       "    <tr>\n",
       "      <td>3</td>\n",
       "      <td>1</td>\n",
       "      <td>https://www.lemonde.fr/les-decodeurs/article/2...</td>\n",
       "      <td>VRAI</td>\n",
       "    </tr>\n",
       "    <tr>\n",
       "      <td>4</td>\n",
       "      <td>2</td>\n",
       "      <td>https://www.buzzbeed.com/macron-veut-faire-pay...</td>\n",
       "      <td>FAUX</td>\n",
       "    </tr>\n",
       "  </tbody>\n",
       "</table>\n",
       "</div>"
      ],
      "text/plain": [
       "   debunk_id                                          hoax_link true_false\n",
       "0          1  http://www.paulomouvementcitoyen.com/2017/02/u...       FAUX\n",
       "1          1  https://www.blog.sami-aldeeb.com/2017/02/06/pr...       FAUX\n",
       "2          1  https://francaisdefrance.wordpress.com/2016/12...       FAUX\n",
       "3          1  https://www.lemonde.fr/les-decodeurs/article/2...       VRAI\n",
       "4          2  https://www.buzzbeed.com/macron-veut-faire-pay...       FAUX"
      ]
     },
     "execution_count": 19,
     "metadata": {},
     "output_type": "execute_result"
    }
   ],
   "source": [
    "# We can safely remove the \"Contestable\" and \"Trompeur\" categories, which won't be informative in this analysis\n",
    "searchfor = ['TROMPEUR', 'CONTESTABLE']\n",
    "df_webscraping = df_webscraping[~df_webscraping.true_false.str.contains('|'.join(searchfor))]\n",
    "\n",
    "# We also filter the debunk_ids which are only equal to 1\n",
    "df_webscraping = df_webscraping.groupby('debunk_id')\n",
    "df_webscraping = df_webscraping.filter(lambda x: len(x) > 1)\n",
    "\n",
    "df_webscraping.head(5)"
   ]
  },
  {
   "cell_type": "code",
   "execution_count": 20,
   "metadata": {},
   "outputs": [],
   "source": [
    "filename = './data/df_webscraping_' + datetime.now().strftime(\"%Y-%m-%d-%H%M%S.csv\")\n",
    "df_webscraping.to_csv(filename, encoding = 'utf-8', header = True, index = None)"
   ]
  }
 ],
 "metadata": {
  "kernelspec": {
   "display_name": "Python 3",
   "language": "python",
   "name": "python3"
  },
  "language_info": {
   "codemirror_mode": {
    "name": "ipython",
    "version": 3
   },
   "file_extension": ".py",
   "mimetype": "text/x-python",
   "name": "python",
   "nbconvert_exporter": "python",
   "pygments_lexer": "ipython3",
   "version": "3.7.4"
  }
 },
 "nbformat": 4,
 "nbformat_minor": 2
}
