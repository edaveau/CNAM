{
 "cells": [
  {
   "cell_type": "code",
   "execution_count": 3,
   "metadata": {},
   "outputs": [],
   "source": [
    "import pandas as pd\n",
    "import nbprogress\n",
    "import seaborn as sns\n",
    "import matplotlib.pyplot as plt\n",
    "import numpy as np\n",
    "\n",
    "from imblearn.over_sampling import SMOTE\n",
    "from imblearn.pipeline import make_pipeline as make_pipeline_imb\n",
    "from imblearn.under_sampling import NearMiss\n",
    "from imblearn.metrics import classification_report_imbalanced\n",
    "from nltk.tokenize import word_tokenize\n",
    "from sklearn.feature_extraction.text import CountVectorizer, TfidfVectorizer, TfidfTransformer\n",
    "from sklearn.feature_selection import SelectKBest, chi2\n",
    "from sklearn.metrics import classification_report, adjusted_rand_score, f1_score\n",
    "from sklearn.metrics import confusion_matrix\n",
    "from sklearn.model_selection import train_test_split\n",
    "from sklearn.naive_bayes import MultinomialNB\n",
    "from sklearn.pipeline import make_pipeline, Pipeline\n",
    "from sklearn.svm import LinearSVC\n",
    "from sklearn.exceptions import ConvergenceWarning\n",
    "from warnings import simplefilter"
   ]
  },
  {
   "cell_type": "code",
   "execution_count": 5,
   "metadata": {},
   "outputs": [],
   "source": [
    "# Import the data\n",
    "df = pd.read_json (r'data/df_machine_learning.json')\n",
    "\n",
    "# Select each independent Pandas series to a variable\n",
    "Xtest = df[\"text\"]\n",
    "ytest = df[\"true_false\"]\n",
    "\n",
    "# Ignore a filter which will appear due to the loop below\n",
    "simplefilter(\"ignore\", category=ConvergenceWarning)\n",
    "\n",
    "# Split training and test datasets\n",
    "X_train, X_test, y_train, y_test = train_test_split(Xtest, ytest,test_size=0.2,random_state=123)"
   ]
  },
  {
   "cell_type": "code",
   "execution_count": 3,
   "metadata": {},
   "outputs": [
    {
     "data": {
      "application/vnd.jupyter.widget-view+json": {
       "model_id": "7b38892e9f4647c1a89006e3ebfc31a2",
       "version_major": 2,
       "version_minor": 0
      },
      "text/plain": [
       "VBox(children=(HTML(value=''), IntProgress(value=0, max=10000)))"
      ]
     },
     "metadata": {},
     "output_type": "display_data"
    },
    {
     "data": {
      "text/plain": [
       "[Text(0, 0.5, 'F1-Score'), Text(0.5, 0, '')]"
      ]
     },
     "execution_count": 3,
     "metadata": {},
     "output_type": "execute_result"
    },
    {
     "data": {
      "image/png": "[encoded data removed]",
      "text/plain": [
       "<Figure size 792x360 with 1 Axes>"
      ]
     },
     "metadata": {},
     "output_type": "display_data"
    }
   ],
   "source": [
    "# We create empty lists which we'll use later for a data visualization\n",
    "iteration = []\n",
    "f1_model = []\n",
    "\n",
    "# We want to select the best K features for our model, so we run a loop\n",
    "for i in nbprogress.log(range(10000), every = 100):\n",
    "    # We are only interested in running this loop every 100 iteration (runtime/100)\n",
    "    if i % 100 == 0 and i != 0:\n",
    "        # We create the pipeline with the tf-idf, features selection and machine learning model\n",
    "        pipeline = Pipeline([(\"vect\", TfidfVectorizer(ngram_range = (1, 1))),\n",
    "                             (\"chi\", SelectKBest(chi2, k = i)),\n",
    "                             (\"clf\", LinearSVC())])\n",
    "        # We apply this pipeline to our training data\n",
    "        model = pipeline.fit(X_train, y_train)\n",
    "        # We append the iterator value and the f1-score to our dataframe\n",
    "        iteration.append(i)\n",
    "        f1_model.append(f1_score(y_test,model.predict(X_test),average='macro'))\n",
    "\n",
    "# We make a df out of our iterators\n",
    "k_candidate = pd.DataFrame(\n",
    "     {\n",
    "         'iteration': iteration,\n",
    "         'f1_score': f1_model\n",
    "     }\n",
    ")\n",
    "\n",
    "# Then plot our k candidates\n",
    "sns.set(style = 'whitegrid')\n",
    "\n",
    "# Initialize the matplotlib figure\n",
    "f, ax = plt.subplots(figsize = (11, 5))\n",
    "\n",
    "# Plot the information sources\n",
    "sns.set_color_codes('muted')\n",
    "sns.lineplot(x = k_candidate['iteration'],\n",
    "             y = k_candidate['f1_score'],\n",
    "             alpha=0.5).set_title('Score Macro F1 en fonction du nombre de features filtrés', fontsize = 18)\n",
    "\n",
    "# Add an informative axis label\n",
    "ax.set(ylabel = 'F1-Score',\n",
    "       xlabel = '')"
   ]
  },
  {
   "cell_type": "code",
   "execution_count": 28,
   "metadata": {},
   "outputs": [
    {
     "data": {
      "text/html": [
       "<div>\n",
       "<style scoped>\n",
       "    .dataframe tbody tr th:only-of-type {\n",
       "        vertical-align: middle;\n",
       "    }\n",
       "\n",
       "    .dataframe tbody tr th {\n",
       "        vertical-align: top;\n",
       "    }\n",
       "\n",
       "    .dataframe thead th {\n",
       "        text-align: right;\n",
       "    }\n",
       "</style>\n",
       "<table border=\"1\" class=\"dataframe\">\n",
       "  <thead>\n",
       "    <tr style=\"text-align: right;\">\n",
       "      <th></th>\n",
       "      <th>precision</th>\n",
       "      <th>recall</th>\n",
       "      <th>f1-score</th>\n",
       "      <th>support</th>\n",
       "    </tr>\n",
       "  </thead>\n",
       "  <tbody>\n",
       "    <tr>\n",
       "      <td>FAUX</td>\n",
       "      <td>0.892128</td>\n",
       "      <td>1.000000</td>\n",
       "      <td>0.942989</td>\n",
       "      <td>306.000000</td>\n",
       "    </tr>\n",
       "    <tr>\n",
       "      <td>VRAI</td>\n",
       "      <td>1.000000</td>\n",
       "      <td>0.026316</td>\n",
       "      <td>0.051282</td>\n",
       "      <td>38.000000</td>\n",
       "    </tr>\n",
       "    <tr>\n",
       "      <td>accuracy</td>\n",
       "      <td>0.892442</td>\n",
       "      <td>0.892442</td>\n",
       "      <td>0.892442</td>\n",
       "      <td>0.892442</td>\n",
       "    </tr>\n",
       "    <tr>\n",
       "      <td>macro avg</td>\n",
       "      <td>0.946064</td>\n",
       "      <td>0.513158</td>\n",
       "      <td>0.497136</td>\n",
       "      <td>344.000000</td>\n",
       "    </tr>\n",
       "    <tr>\n",
       "      <td>weighted avg</td>\n",
       "      <td>0.904044</td>\n",
       "      <td>0.892442</td>\n",
       "      <td>0.844487</td>\n",
       "      <td>344.000000</td>\n",
       "    </tr>\n",
       "  </tbody>\n",
       "</table>\n",
       "</div>"
      ],
      "text/plain": [
       "              precision    recall  f1-score     support\n",
       "FAUX           0.892128  1.000000  0.942989  306.000000\n",
       "VRAI           1.000000  0.026316  0.051282   38.000000\n",
       "accuracy       0.892442  0.892442  0.892442    0.892442\n",
       "macro avg      0.946064  0.513158  0.497136  344.000000\n",
       "weighted avg   0.904044  0.892442  0.844487  344.000000"
      ]
     },
     "execution_count": 28,
     "metadata": {},
     "output_type": "execute_result"
    }
   ],
   "source": [
    "# Create a pipeline to get the model at 2000 features\n",
    "pipeline = Pipeline([(\"vect\", TfidfVectorizer(ngram_range = (1, 1))),\n",
    "                    (\"chi\", SelectKBest(chi2, k = 2000)),\n",
    "                    (\"clf\", LinearSVC())])\n",
    "\n",
    "# Fit the model\n",
    "model = pipeline.fit(X_train, y_train)\n",
    "\n",
    "# Get our prediction\n",
    "prediction = model.predict(X_test)\n",
    "\n",
    "# Print out the report\n",
    "clsf_report = pd.DataFrame(classification_report(y_true = y_test, y_pred = prediction, output_dict=True)).transpose()\n",
    "clsf_report"
   ]
  },
  {
   "cell_type": "code",
   "execution_count": 29,
   "metadata": {},
   "outputs": [
    {
     "data": {
      "text/html": [
       "<div>\n",
       "<style scoped>\n",
       "    .dataframe tbody tr th:only-of-type {\n",
       "        vertical-align: middle;\n",
       "    }\n",
       "\n",
       "    .dataframe tbody tr th {\n",
       "        vertical-align: top;\n",
       "    }\n",
       "\n",
       "    .dataframe thead th {\n",
       "        text-align: right;\n",
       "    }\n",
       "</style>\n",
       "<table border=\"1\" class=\"dataframe\">\n",
       "  <thead>\n",
       "    <tr style=\"text-align: right;\">\n",
       "      <th></th>\n",
       "      <th>predicted:FAUX</th>\n",
       "      <th>predicted:VRAI</th>\n",
       "    </tr>\n",
       "  </thead>\n",
       "  <tbody>\n",
       "    <tr>\n",
       "      <td>actual:FAUX</td>\n",
       "      <td>306</td>\n",
       "      <td>0</td>\n",
       "    </tr>\n",
       "    <tr>\n",
       "      <td>actual:VRAI</td>\n",
       "      <td>37</td>\n",
       "      <td>1</td>\n",
       "    </tr>\n",
       "  </tbody>\n",
       "</table>\n",
       "</div>"
      ],
      "text/plain": [
       "             predicted:FAUX  predicted:VRAI\n",
       "actual:FAUX             306               0\n",
       "actual:VRAI              37               1"
      ]
     },
     "execution_count": 29,
     "metadata": {},
     "output_type": "execute_result"
    }
   ],
   "source": [
    "pd.DataFrame(\n",
    "    confusion_matrix(y_test, prediction, labels=['FAUX', 'VRAI']), \n",
    "    index=['actual:FAUX', 'actual:VRAI'], \n",
    "    columns=['predicted:FAUX', 'predicted:VRAI']\n",
    ")"
   ]
  },
  {
   "cell_type": "code",
   "execution_count": 10,
   "metadata": {},
   "outputs": [
    {
     "data": {
      "application/vnd.jupyter.widget-view+json": {
       "model_id": "673bdeaa10544ef6a9b3207564916457",
       "version_major": 2,
       "version_minor": 0
      },
      "text/plain": [
       "VBox(children=(HTML(value=''), IntProgress(value=0, max=20)))"
      ]
     },
     "metadata": {},
     "output_type": "display_data"
    },
    {
     "data": {
      "text/plain": [
       "[Text(0, 0.5, 'F1-Score'), Text(0.5, 0, '')]"
      ]
     },
     "execution_count": 10,
     "metadata": {},
     "output_type": "execute_result"
    },
    {
     "data": {
      "image/png": "[encoded data removed]",
      "text/plain": [
       "<Figure size 792x360 with 1 Axes>"
      ]
     },
     "metadata": {},
     "output_type": "display_data"
    }
   ],
   "source": [
    "# We create empty lists which we'll use later for a data visualization\n",
    "iteration = []\n",
    "f1_model = []\n",
    "\n",
    "# We want to select the best K features for our model, so we run a loop\n",
    "for i in nbprogress.log(np.arange(0.0, 10.0, 0.5)):\n",
    "    if i != 0:\n",
    "        # We create the pipeline with the tf-idf, features selection and machine learning model\n",
    "        pipeline = make_pipeline_imb(TfidfVectorizer(),\n",
    "                         SelectKBest(chi2, k = 2000),\n",
    "                         SMOTE(random_state = 123),\n",
    "                         LinearSVC(random_state = 123, C = i, class_weight = 'balanced'))\n",
    "        # We apply this pipeline to our training data\n",
    "        model = pipeline.fit(X_train, y_train)\n",
    "        # We append the iterator value and the f1-score to our dataframe\n",
    "        iteration.append(i)\n",
    "        f1_model.append(f1_score(y_test,model.predict(X_test),average='macro'))\n",
    "\n",
    "# We make a df out of our iterators\n",
    "k_candidate = pd.DataFrame(\n",
    "     {\n",
    "         'iteration': iteration,\n",
    "         'f1_score': f1_model\n",
    "     }\n",
    ")\n",
    "\n",
    "# Then plot our k candidates\n",
    "sns.set(style = 'whitegrid')\n",
    "\n",
    "# Initialize the matplotlib figure\n",
    "f, ax = plt.subplots(figsize = (11, 5))\n",
    "\n",
    "# Plot the information sources\n",
    "sns.set_color_codes('muted')\n",
    "sns.lineplot(x = k_candidate['iteration'],\n",
    "             y = k_candidate['f1_score'],\n",
    "             alpha=0.5).set_title('Score F1 en fonction de l\\'hyperparamètre C', fontsize = 18)\n",
    "\n",
    "# Add an informative axis label\n",
    "ax.set(ylabel = 'F1-Score',\n",
    "       xlabel = '')"
   ]
  },
  {
   "cell_type": "code",
   "execution_count": 14,
   "metadata": {},
   "outputs": [
    {
     "data": {
      "text/html": [
       "<div>\n",
       "<style scoped>\n",
       "    .dataframe tbody tr th:only-of-type {\n",
       "        vertical-align: middle;\n",
       "    }\n",
       "\n",
       "    .dataframe tbody tr th {\n",
       "        vertical-align: top;\n",
       "    }\n",
       "\n",
       "    .dataframe thead th {\n",
       "        text-align: right;\n",
       "    }\n",
       "</style>\n",
       "<table border=\"1\" class=\"dataframe\">\n",
       "  <thead>\n",
       "    <tr style=\"text-align: right;\">\n",
       "      <th></th>\n",
       "      <th>precision</th>\n",
       "      <th>recall</th>\n",
       "      <th>f1-score</th>\n",
       "      <th>support</th>\n",
       "    </tr>\n",
       "  </thead>\n",
       "  <tbody>\n",
       "    <tr>\n",
       "      <td>FAUX</td>\n",
       "      <td>0.906355</td>\n",
       "      <td>0.885621</td>\n",
       "      <td>0.895868</td>\n",
       "      <td>306.00000</td>\n",
       "    </tr>\n",
       "    <tr>\n",
       "      <td>VRAI</td>\n",
       "      <td>0.222222</td>\n",
       "      <td>0.263158</td>\n",
       "      <td>0.240964</td>\n",
       "      <td>38.00000</td>\n",
       "    </tr>\n",
       "    <tr>\n",
       "      <td>accuracy</td>\n",
       "      <td>0.816860</td>\n",
       "      <td>0.816860</td>\n",
       "      <td>0.816860</td>\n",
       "      <td>0.81686</td>\n",
       "    </tr>\n",
       "    <tr>\n",
       "      <td>macro avg</td>\n",
       "      <td>0.564288</td>\n",
       "      <td>0.574389</td>\n",
       "      <td>0.568416</td>\n",
       "      <td>344.00000</td>\n",
       "    </tr>\n",
       "    <tr>\n",
       "      <td>weighted avg</td>\n",
       "      <td>0.830782</td>\n",
       "      <td>0.816860</td>\n",
       "      <td>0.823524</td>\n",
       "      <td>344.00000</td>\n",
       "    </tr>\n",
       "  </tbody>\n",
       "</table>\n",
       "</div>"
      ],
      "text/plain": [
       "              precision    recall  f1-score    support\n",
       "FAUX           0.906355  0.885621  0.895868  306.00000\n",
       "VRAI           0.222222  0.263158  0.240964   38.00000\n",
       "accuracy       0.816860  0.816860  0.816860    0.81686\n",
       "macro avg      0.564288  0.574389  0.568416  344.00000\n",
       "weighted avg   0.830782  0.816860  0.823524  344.00000"
      ]
     },
     "execution_count": 14,
     "metadata": {},
     "output_type": "execute_result"
    }
   ],
   "source": [
    "# Create a pipeline to get the model at 2000 features with the SMOTE process\n",
    "pipe = make_pipeline_imb(TfidfVectorizer(),\n",
    "                         SelectKBest(chi2, k = 2000),\n",
    "                         SMOTE(random_state = 123),\n",
    "                         LinearSVC(random_state = 123, C = 2, class_weight = 'balanced'))\n",
    "\n",
    "# Fit the model\n",
    "model = pipe.fit(X_train, y_train)\n",
    "\n",
    "# Get our prediction\n",
    "prediction = model.predict(X_test)\n",
    "\n",
    "# Print out the report\n",
    "clsf_report = pd.DataFrame(classification_report(y_true = y_test, y_pred = prediction, output_dict=True)).transpose()\n",
    "clsf_report"
   ]
  },
  {
   "cell_type": "code",
   "execution_count": 9,
   "metadata": {},
   "outputs": [
    {
     "data": {
      "text/html": [
       "<div>\n",
       "<style scoped>\n",
       "    .dataframe tbody tr th:only-of-type {\n",
       "        vertical-align: middle;\n",
       "    }\n",
       "\n",
       "    .dataframe tbody tr th {\n",
       "        vertical-align: top;\n",
       "    }\n",
       "\n",
       "    .dataframe thead th {\n",
       "        text-align: right;\n",
       "    }\n",
       "</style>\n",
       "<table border=\"1\" class=\"dataframe\">\n",
       "  <thead>\n",
       "    <tr style=\"text-align: right;\">\n",
       "      <th></th>\n",
       "      <th>predicted:FAUX</th>\n",
       "      <th>predicted:VRAI</th>\n",
       "    </tr>\n",
       "  </thead>\n",
       "  <tbody>\n",
       "    <tr>\n",
       "      <td>actual:FAUX</td>\n",
       "      <td>268</td>\n",
       "      <td>38</td>\n",
       "    </tr>\n",
       "    <tr>\n",
       "      <td>actual:VRAI</td>\n",
       "      <td>29</td>\n",
       "      <td>9</td>\n",
       "    </tr>\n",
       "  </tbody>\n",
       "</table>\n",
       "</div>"
      ],
      "text/plain": [
       "             predicted:FAUX  predicted:VRAI\n",
       "actual:FAUX             268              38\n",
       "actual:VRAI              29               9"
      ]
     },
     "execution_count": 9,
     "metadata": {},
     "output_type": "execute_result"
    }
   ],
   "source": [
    "pd.DataFrame(\n",
    "    confusion_matrix(y_test, prediction, labels=['FAUX', 'VRAI']), \n",
    "    index=['actual:FAUX', 'actual:VRAI'], \n",
    "    columns=['predicted:FAUX', 'predicted:VRAI']\n",
    ")"
   ]
  },
  {
   "cell_type": "code",
   "execution_count": 32,
   "metadata": {
    "scrolled": true
   },
   "outputs": [
    {
     "data": {
      "text/html": [
       "<div>\n",
       "<style scoped>\n",
       "    .dataframe tbody tr th:only-of-type {\n",
       "        vertical-align: middle;\n",
       "    }\n",
       "\n",
       "    .dataframe tbody tr th {\n",
       "        vertical-align: top;\n",
       "    }\n",
       "\n",
       "    .dataframe thead th {\n",
       "        text-align: right;\n",
       "    }\n",
       "</style>\n",
       "<table border=\"1\" class=\"dataframe\">\n",
       "  <thead>\n",
       "    <tr style=\"text-align: right;\">\n",
       "      <th></th>\n",
       "      <th>precision</th>\n",
       "      <th>recall</th>\n",
       "      <th>f1-score</th>\n",
       "      <th>support</th>\n",
       "    </tr>\n",
       "  </thead>\n",
       "  <tbody>\n",
       "    <tr>\n",
       "      <td>FAUX</td>\n",
       "      <td>0.906863</td>\n",
       "      <td>0.604575</td>\n",
       "      <td>0.725490</td>\n",
       "      <td>306.000000</td>\n",
       "    </tr>\n",
       "    <tr>\n",
       "      <td>VRAI</td>\n",
       "      <td>0.135714</td>\n",
       "      <td>0.500000</td>\n",
       "      <td>0.213483</td>\n",
       "      <td>38.000000</td>\n",
       "    </tr>\n",
       "    <tr>\n",
       "      <td>accuracy</td>\n",
       "      <td>0.593023</td>\n",
       "      <td>0.593023</td>\n",
       "      <td>0.593023</td>\n",
       "      <td>0.593023</td>\n",
       "    </tr>\n",
       "    <tr>\n",
       "      <td>macro avg</td>\n",
       "      <td>0.521289</td>\n",
       "      <td>0.552288</td>\n",
       "      <td>0.469487</td>\n",
       "      <td>344.000000</td>\n",
       "    </tr>\n",
       "    <tr>\n",
       "      <td>weighted avg</td>\n",
       "      <td>0.821678</td>\n",
       "      <td>0.593023</td>\n",
       "      <td>0.668931</td>\n",
       "      <td>344.000000</td>\n",
       "    </tr>\n",
       "  </tbody>\n",
       "</table>\n",
       "</div>"
      ],
      "text/plain": [
       "              precision    recall  f1-score     support\n",
       "FAUX           0.906863  0.604575  0.725490  306.000000\n",
       "VRAI           0.135714  0.500000  0.213483   38.000000\n",
       "accuracy       0.593023  0.593023  0.593023    0.593023\n",
       "macro avg      0.521289  0.552288  0.469487  344.000000\n",
       "weighted avg   0.821678  0.593023  0.668931  344.000000"
      ]
     },
     "execution_count": 32,
     "metadata": {},
     "output_type": "execute_result"
    }
   ],
   "source": [
    "# Create a pipeline to get the model at 2000 features with the SMOTE process and the Naive Bayes algorithm\n",
    "pipe = make_pipeline_imb(TfidfVectorizer(),\n",
    "                         SelectKBest(chi2, k = 2000),\n",
    "                         SMOTE(random_state = 123),\n",
    "                         MultinomialNB())\n",
    "\n",
    "# Fit the model\n",
    "model = pipe.fit(X_train, y_train)\n",
    "\n",
    "# Get our prediction\n",
    "prediction = model.predict(X_test)\n",
    "\n",
    "# Print out the report\n",
    "clsf_report = pd.DataFrame(classification_report(y_true = y_test, y_pred = prediction, output_dict=True)).transpose()\n",
    "clsf_report"
   ]
  },
  {
   "cell_type": "code",
   "execution_count": 33,
   "metadata": {},
   "outputs": [
    {
     "data": {
      "text/html": [
       "<div>\n",
       "<style scoped>\n",
       "    .dataframe tbody tr th:only-of-type {\n",
       "        vertical-align: middle;\n",
       "    }\n",
       "\n",
       "    .dataframe tbody tr th {\n",
       "        vertical-align: top;\n",
       "    }\n",
       "\n",
       "    .dataframe thead th {\n",
       "        text-align: right;\n",
       "    }\n",
       "</style>\n",
       "<table border=\"1\" class=\"dataframe\">\n",
       "  <thead>\n",
       "    <tr style=\"text-align: right;\">\n",
       "      <th></th>\n",
       "      <th>predicted:FAUX</th>\n",
       "      <th>predicted:VRAI</th>\n",
       "    </tr>\n",
       "  </thead>\n",
       "  <tbody>\n",
       "    <tr>\n",
       "      <td>actual:FAUX</td>\n",
       "      <td>185</td>\n",
       "      <td>121</td>\n",
       "    </tr>\n",
       "    <tr>\n",
       "      <td>actual:VRAI</td>\n",
       "      <td>19</td>\n",
       "      <td>19</td>\n",
       "    </tr>\n",
       "  </tbody>\n",
       "</table>\n",
       "</div>"
      ],
      "text/plain": [
       "             predicted:FAUX  predicted:VRAI\n",
       "actual:FAUX             185             121\n",
       "actual:VRAI              19              19"
      ]
     },
     "execution_count": 33,
     "metadata": {},
     "output_type": "execute_result"
    }
   ],
   "source": [
    "pd.DataFrame(\n",
    "    confusion_matrix(y_test, prediction, labels=['FAUX', 'VRAI']), \n",
    "    index=['actual:FAUX', 'actual:VRAI'], \n",
    "    columns=['predicted:FAUX', 'predicted:VRAI']\n",
    ")"
   ]
  },
  {
   "cell_type": "markdown",
   "metadata": {},
   "source": [
    "https://towardsdatascience.com/dealing-with-imbalanced-classes-in-machine-learning-d43d6fa19d2\n",
    "https://towardsdatascience.com/class-imbalance-a-classification-headache-1939297ff4a4\n",
    "https://stackoverflow.com/questions/55740220/macro-vs-micro-vs-weighted-vs-samples-f1-score"
   ]
  }
 ],
 "metadata": {
  "kernelspec": {
   "display_name": "Python 3",
   "language": "python",
   "name": "python3"
  },
  "language_info": {
   "codemirror_mode": {
    "name": "ipython",
    "version": 3
   },
   "file_extension": ".py",
   "mimetype": "text/x-python",
   "name": "python",
   "nbconvert_exporter": "python",
   "pygments_lexer": "ipython3",
   "version": "3.7.4"
  }
 },
 "nbformat": 4,
 "nbformat_minor": 2
}
