{
 "cells": [
  {
   "cell_type": "code",
   "execution_count": 128,
   "metadata": {},
   "outputs": [],
   "source": [
    "import pandas as pd\n",
    "import numpy as np\n",
    "import seaborn as sns\n",
    "\n",
    "from datetime import datetime"
   ]
  },
  {
   "cell_type": "code",
   "execution_count": 105,
   "metadata": {
    "scrolled": true
   },
   "outputs": [
    {
     "data": {
      "text/html": [
       "<div>\n",
       "<style scoped>\n",
       "    .dataframe tbody tr th:only-of-type {\n",
       "        vertical-align: middle;\n",
       "    }\n",
       "\n",
       "    .dataframe tbody tr th {\n",
       "        vertical-align: top;\n",
       "    }\n",
       "\n",
       "    .dataframe thead th {\n",
       "        text-align: right;\n",
       "    }\n",
       "</style>\n",
       "<table border=\"1\" class=\"dataframe\">\n",
       "  <thead>\n",
       "    <tr style=\"text-align: right;\">\n",
       "      <th></th>\n",
       "      <th>debunk_id</th>\n",
       "      <th>hoax_link</th>\n",
       "      <th>true_false</th>\n",
       "      <th>title</th>\n",
       "      <th>body</th>\n",
       "      <th>sources</th>\n",
       "    </tr>\n",
       "  </thead>\n",
       "  <tbody>\n",
       "    <tr>\n",
       "      <td>0</td>\n",
       "      <td>1</td>\n",
       "      <td>http://www.paulomouvementcitoyen.com/2017/02/u...</td>\n",
       "      <td>FAUX</td>\n",
       "      <td>Un prêtre agressé à Avignon:</td>\n",
       "      <td>action citoyenne, sécurité et citoyenneté Prêt...</td>\n",
       "      <td>https://www.over-blog.com/cookies</td>\n",
       "    </tr>\n",
       "    <tr>\n",
       "      <td>1</td>\n",
       "      <td>1</td>\n",
       "      <td>https://www.blog.sami-aldeeb.com/2017/02/06/pr...</td>\n",
       "      <td>FAUX</td>\n",
       "      <td>Your connection is not private</td>\n",
       "      <td>Attackers might be trying to steal your inform...</td>\n",
       "      <td></td>\n",
       "    </tr>\n",
       "    <tr>\n",
       "      <td>2</td>\n",
       "      <td>1</td>\n",
       "      <td>https://francaisdefrance.wordpress.com/2016/12...</td>\n",
       "      <td>FAUX</td>\n",
       "      <td>Francaisdefrance's Blog12/12/2016</td>\n",
       "      <td>Soyons solidaire de notre Église, A diffuser, ...</td>\n",
       "      <td>https://subscribe.wordpress.com/</td>\n",
       "    </tr>\n",
       "    <tr>\n",
       "      <td>3</td>\n",
       "      <td>1</td>\n",
       "      <td>https://www.lemonde.fr/les-decodeurs/article/2...</td>\n",
       "      <td>VRAI</td>\n",
       "      <td>Des militants dénoncent l’omerta des médias su...</td>\n",
       "      <td>Consulterle journal Sur les sites de vente en ...</td>\n",
       "      <td>https://lemonde.fr/confidentialite/</td>\n",
       "    </tr>\n",
       "    <tr>\n",
       "      <td>4</td>\n",
       "      <td>2</td>\n",
       "      <td>https://www.buzzbeed.com/macron-veut-faire-pay...</td>\n",
       "      <td>FAUX</td>\n",
       "      <td>Macron veut faire payer un loyer aux propriéta...</td>\n",
       "      <td>BuzzBeed Site à vocation parodique (dans la me...</td>\n",
       "      <td>https://www.buzzbeed.com/sabonner</td>\n",
       "    </tr>\n",
       "  </tbody>\n",
       "</table>\n",
       "</div>"
      ],
      "text/plain": [
       "   debunk_id                                          hoax_link true_false  \\\n",
       "0          1  http://www.paulomouvementcitoyen.com/2017/02/u...       FAUX   \n",
       "1          1  https://www.blog.sami-aldeeb.com/2017/02/06/pr...       FAUX   \n",
       "2          1  https://francaisdefrance.wordpress.com/2016/12...       FAUX   \n",
       "3          1  https://www.lemonde.fr/les-decodeurs/article/2...       VRAI   \n",
       "4          2  https://www.buzzbeed.com/macron-veut-faire-pay...       FAUX   \n",
       "\n",
       "                                               title  \\\n",
       "0                       Un prêtre agressé à Avignon:   \n",
       "1                     Your connection is not private   \n",
       "2                  Francaisdefrance's Blog12/12/2016   \n",
       "3  Des militants dénoncent l’omerta des médias su...   \n",
       "4  Macron veut faire payer un loyer aux propriéta...   \n",
       "\n",
       "                                                body  \\\n",
       "0  action citoyenne, sécurité et citoyenneté Prêt...   \n",
       "1  Attackers might be trying to steal your inform...   \n",
       "2  Soyons solidaire de notre Église, A diffuser, ...   \n",
       "3  Consulterle journal Sur les sites de vente en ...   \n",
       "4  BuzzBeed Site à vocation parodique (dans la me...   \n",
       "\n",
       "                               sources  \n",
       "0    https://www.over-blog.com/cookies  \n",
       "1                                       \n",
       "2     https://subscribe.wordpress.com/  \n",
       "3  https://lemonde.fr/confidentialite/  \n",
       "4    https://www.buzzbeed.com/sabonner  "
      ]
     },
     "execution_count": 105,
     "metadata": {},
     "output_type": "execute_result"
    }
   ],
   "source": [
    "# Import webscraped data\n",
    "df = pd.read_json (r'data/webscraped_data.json')\n",
    "df.head(5)"
   ]
  },
  {
   "cell_type": "code",
   "execution_count": 106,
   "metadata": {},
   "outputs": [
    {
     "data": {
      "text/html": [
       "<div>\n",
       "<style scoped>\n",
       "    .dataframe tbody tr th:only-of-type {\n",
       "        vertical-align: middle;\n",
       "    }\n",
       "\n",
       "    .dataframe tbody tr th {\n",
       "        vertical-align: top;\n",
       "    }\n",
       "\n",
       "    .dataframe thead th {\n",
       "        text-align: right;\n",
       "    }\n",
       "</style>\n",
       "<table border=\"1\" class=\"dataframe\">\n",
       "  <thead>\n",
       "    <tr style=\"text-align: right;\">\n",
       "      <th></th>\n",
       "      <th>debunk_id</th>\n",
       "      <th>hoax_link</th>\n",
       "      <th>true_false</th>\n",
       "      <th>title</th>\n",
       "      <th>body</th>\n",
       "      <th>sources</th>\n",
       "    </tr>\n",
       "  </thead>\n",
       "  <tbody>\n",
       "    <tr>\n",
       "      <td>0</td>\n",
       "      <td>1</td>\n",
       "      <td>http://www.paulomouvementcitoyen.com/2017/02/u...</td>\n",
       "      <td>FAUX</td>\n",
       "      <td>Un prêtre agressé à Avignon:</td>\n",
       "      <td>action citoyenne, sécurité et citoyenneté Prêt...</td>\n",
       "      <td>https://www.over-blog.com/cookies</td>\n",
       "    </tr>\n",
       "    <tr>\n",
       "      <td>2</td>\n",
       "      <td>1</td>\n",
       "      <td>https://francaisdefrance.wordpress.com/2016/12...</td>\n",
       "      <td>FAUX</td>\n",
       "      <td>Francaisdefrance's Blog12/12/2016</td>\n",
       "      <td>Soyons solidaire de notre Église, A diffuser, ...</td>\n",
       "      <td>https://subscribe.wordpress.com/</td>\n",
       "    </tr>\n",
       "    <tr>\n",
       "      <td>3</td>\n",
       "      <td>1</td>\n",
       "      <td>https://www.lemonde.fr/les-decodeurs/article/2...</td>\n",
       "      <td>VRAI</td>\n",
       "      <td>Des militants dénoncent l’omerta des médias su...</td>\n",
       "      <td>Consulterle journal Sur les sites de vente en ...</td>\n",
       "      <td>https://lemonde.fr/confidentialite/</td>\n",
       "    </tr>\n",
       "    <tr>\n",
       "      <td>4</td>\n",
       "      <td>2</td>\n",
       "      <td>https://www.buzzbeed.com/macron-veut-faire-pay...</td>\n",
       "      <td>FAUX</td>\n",
       "      <td>Macron veut faire payer un loyer aux propriéta...</td>\n",
       "      <td>BuzzBeed Site à vocation parodique (dans la me...</td>\n",
       "      <td>https://www.buzzbeed.com/sabonner</td>\n",
       "    </tr>\n",
       "    <tr>\n",
       "      <td>5</td>\n",
       "      <td>2</td>\n",
       "      <td>https://crosscheck.firstdraftnews.com/checked-...</td>\n",
       "      <td>VRAI</td>\n",
       "      <td>Macron a-t-il déclaré vouloir faire payer un l...</td>\n",
       "      <td>First Draft and \\nGoogle News Lab Travailler e...</td>\n",
       "      <td>https://firstdraftnews.com</td>\n",
       "    </tr>\n",
       "  </tbody>\n",
       "</table>\n",
       "</div>"
      ],
      "text/plain": [
       "   debunk_id                                          hoax_link true_false  \\\n",
       "0          1  http://www.paulomouvementcitoyen.com/2017/02/u...       FAUX   \n",
       "2          1  https://francaisdefrance.wordpress.com/2016/12...       FAUX   \n",
       "3          1  https://www.lemonde.fr/les-decodeurs/article/2...       VRAI   \n",
       "4          2  https://www.buzzbeed.com/macron-veut-faire-pay...       FAUX   \n",
       "5          2  https://crosscheck.firstdraftnews.com/checked-...       VRAI   \n",
       "\n",
       "                                               title  \\\n",
       "0                       Un prêtre agressé à Avignon:   \n",
       "2                  Francaisdefrance's Blog12/12/2016   \n",
       "3  Des militants dénoncent l’omerta des médias su...   \n",
       "4  Macron veut faire payer un loyer aux propriéta...   \n",
       "5  Macron a-t-il déclaré vouloir faire payer un l...   \n",
       "\n",
       "                                                body  \\\n",
       "0  action citoyenne, sécurité et citoyenneté Prêt...   \n",
       "2  Soyons solidaire de notre Église, A diffuser, ...   \n",
       "3  Consulterle journal Sur les sites de vente en ...   \n",
       "4  BuzzBeed Site à vocation parodique (dans la me...   \n",
       "5  First Draft and \\nGoogle News Lab Travailler e...   \n",
       "\n",
       "                               sources  \n",
       "0    https://www.over-blog.com/cookies  \n",
       "2     https://subscribe.wordpress.com/  \n",
       "3  https://lemonde.fr/confidentialite/  \n",
       "4    https://www.buzzbeed.com/sabonner  \n",
       "5           https://firstdraftnews.com  "
      ]
     },
     "execution_count": 106,
     "metadata": {},
     "output_type": "execute_result"
    }
   ],
   "source": [
    "# Create a list referencing all failures to scrape data\n",
    "rows_to_rm = [\"We couldn't find the page you are looking for\",\n",
    "              \"Your connection is not private\",\n",
    "              \"This site can’t be reached\",\n",
    "              \"404Page non trouvée !\",\n",
    "              \"Erreur 404!BLABLA & CHAT EN DIRECT\",\n",
    "              \"Not found, error 404Popular Right Now\",\n",
    "              \"70news.wordpress.com is no longer available.\",\n",
    "              \"Oops! That page can’t be found.Recent Posts\",\n",
    "              \"Erreur 404\",\n",
    "              \"404 Not Found\",\n",
    "              \"Not Found\",\n",
    "              \"Page Not Found\",\n",
    "              \"404Page inexistante\",\n",
    "              \"La page que vous avez demandé n'existe pas\",\n",
    "              \"Please turn JavaScript on and reload the page.\",\n",
    "              \"Oops! Something went wrong here\",\n",
    "              \"Page not found (404)\",\n",
    "              \"The server can not find the requested page\",\n",
    "              \"Error 404\",\n",
    "              \"Le blog a été supprimé\",\n",
    "              \"Oops! That page can’t be found.\",\n",
    "              \"403 Forbidden\",\n",
    "              \"Apologies, but the page you requested could\",\n",
    "              \"404 - Page Not Found\",\n",
    "              \"Page non trouvée\",\n",
    "              \"Page not found\",\n",
    "              \"You may not be able to visit this page because\",\n",
    "              \"Oops\",\n",
    "              \"Ooops\",\n",
    "              \"404 ERROR\",\n",
    "              \"Erreur de serveur404\",\n",
    "              \"page can’t be found\",\n",
    "              \"page couldn’t be found\",\n",
    "              \"is for sale\",\n",
    "              \"is no longer available\",\n",
    "              \"Cette page n’est malheureusement pas disponible\",\n",
    "              \"Cette page n’est pas disponible\",\n",
    "              \"503 Service Temporarily Unavailable\",\n",
    "              \"Je ne suis pas un robot\",\n",
    "              \"This page isn’t available\",\n",
    "              \"It Looks like the page you are looking for\",\n",
    "              \"Erreur de serveur404\",\n",
    "              \"UNE ERREUR EST SURVENUE\",\n",
    "              \"la page ne peut pas être trouvée\",\n",
    "              \"Cette page est introuvable\",\n",
    "              \"la page que vous recherchez\", \n",
    "              \"Page désactivée\", \n",
    "              \"Error 404\"]\n",
    "\n",
    "# Remove all rows containing previous strings\n",
    "df_clean = df[~df['title'].str.contains('|'.join(rows_to_rm), na=False)]\n",
    "df_clean.head(5)"
   ]
  },
  {
   "cell_type": "code",
   "execution_count": 107,
   "metadata": {},
   "outputs": [
    {
     "name": "stdout",
     "output_type": "stream",
     "text": [
      "Nombre d'observations supprimées suite au filtrage des erreurs 404 : 550\n"
     ]
    }
   ],
   "source": [
    "print(\"Nombre d'observations supprimées suite au filtrage des erreurs 404 :\", df.shape[0] - df_clean.shape[0])"
   ]
  },
  {
   "cell_type": "code",
   "execution_count": 108,
   "metadata": {},
   "outputs": [],
   "source": [
    "# Remove all rows which failed to be scraped and are equal to a NoneType\n",
    "df_clean = df_clean.replace(to_replace='None', value=np.nan).dropna()"
   ]
  },
  {
   "cell_type": "code",
   "execution_count": 109,
   "metadata": {
    "scrolled": true
   },
   "outputs": [
    {
     "data": {
      "text/plain": [
       "(2254, 6)"
      ]
     },
     "execution_count": 109,
     "metadata": {},
     "output_type": "execute_result"
    }
   ],
   "source": [
    "df_clean.shape"
   ]
  },
  {
   "cell_type": "code",
   "execution_count": 110,
   "metadata": {},
   "outputs": [],
   "source": [
    "# Remove all rows which have empty values in the title and body columns\n",
    "cols = ['title', 'body']\n",
    "df_clean = df_clean[~df_clean[cols].replace('', np.nan).isin([np.nan]).all(axis=1)]"
   ]
  },
  {
   "cell_type": "code",
   "execution_count": 111,
   "metadata": {},
   "outputs": [
    {
     "data": {
      "text/plain": [
       "(2124, 6)"
      ]
     },
     "execution_count": 111,
     "metadata": {},
     "output_type": "execute_result"
    }
   ],
   "source": [
    "df_clean.shape"
   ]
  },
  {
   "cell_type": "code",
   "execution_count": 112,
   "metadata": {
    "scrolled": true
   },
   "outputs": [
    {
     "name": "stdout",
     "output_type": "stream",
     "text": [
      "Nombre d'observations supprimées suite au premier filtrage : 692\n"
     ]
    }
   ],
   "source": [
    "print(\"Nombre d'observations supprimées suite au premier filtrage :\", df.shape[0] - df_clean.shape[0])"
   ]
  },
  {
   "cell_type": "code",
   "execution_count": 114,
   "metadata": {},
   "outputs": [],
   "source": [
    "df_clean = df_clean.drop(df.index[[17, 19, 20, 26, 34, 50, 52, 55, 57, 58, 59, 60, 62, 64, 65, 66, 68, 70, 71, 73,\n",
    "                                   76, 108, 118, 133, 163, 165, 225, 255, 257, 289, 346, 385, 386, 387, 389, 390, 391,\n",
    "                                   392, 393, 395, 396, 397, 407, 409, 411, 412, 413, 414, 415, 416, 417, 418, 419, 420, \n",
    "                                   421, 439, 440, 441, 466, 467, 468, 469, 470, 489, 495, 497, 523, 536, 541, 542, 564, \n",
    "                                   570, 571, 625, 634, 637, 643, 656, 686, 756, 842, 857, 859, 860, 861, 862, 863, 873, \n",
    "                                   894, 904, 912, 932, 961, 1052, 1090, 1095, 1097, 1101, 1124, 1153, 1154, 1156, 1157,\n",
    "                                   1165, 1167, 1210, 1211, 1218, 1219, 1231, 1246, 1250, 1251, 1255, 1256, 1259, 1269,\n",
    "                                   1270, 1273, 1275, 1277, 1278, 1347, 1351, 1378, 1379, 1382, 1386, 1393, 1395, 1396,\n",
    "                                   1397, 1399, 1401, 1410, 1422, 1424, 1425, 1428, 1436, 1437, 1444, 1445, 1446, 1463, \n",
    "                                   1468, 1470, 1478, 1482, 1501, 1502, 1504, 1509, 1510, 1512, 1513, 1514, 1515, 1516, \n",
    "                                   1518, 1526, 1527, 1530, 1609, 1611, 1617, 1643, 1682, 1714, 1738, 1739, 1740, 1741, \n",
    "                                   1743, 1744, 1745, 1827, 1828, 1829, 1832, 1833, 1839, 1841, 1842, 1845, 1852, 1853, \n",
    "                                   1870, 1911, 1977, 1978, 1979, 1980, 1981, 1985, 1994, 2002, 2009, 2024, 2027, 2030, \n",
    "                                   2034, 2046, 2064, 2072, 2074, 2110, 2126, 2127, 2128, 2180, 2193, 2312, 2323, 2334, \n",
    "                                   2336, 2338, 2367, 2371, 2381, 2389, 2536, 2537, 2538, 2539, 2552, 2659, 2744, 2747, \n",
    "                                   2748, 2750, 2751, 2752, 2755, 2793, 2799]])"
   ]
  },
  {
   "cell_type": "code",
   "execution_count": 115,
   "metadata": {},
   "outputs": [
    {
     "data": {
      "text/plain": [
       "(1888, 6)"
      ]
     },
     "execution_count": 115,
     "metadata": {},
     "output_type": "execute_result"
    }
   ],
   "source": [
    "df_clean.shape"
   ]
  },
  {
   "cell_type": "code",
   "execution_count": 116,
   "metadata": {},
   "outputs": [
    {
     "data": {
      "text/plain": [
       "['Amazon va fermer tous ses sites en\\xa0France pour cinq jours Amazon : «\\xa0La crise nous fait basculer dans les nouveaux Temps modernes\\xa0» Le congé s’échange comme une monnaie «\\xa0Le gouvernement rompt l’équilibre entre l’activité de l’entreprise et le droit au repos des travailleurs\\xa0» Notre-Dame, Saint-Denis... Faut-il reconstruire les monuments détruits\\xa0? Incendie de Notre-Dame : pourquoi ces vidéos ne prouvent rien sur les origines du feu Au cœur du chantier de Notre-Dame, « mine d’or pour les chercheurs\\xa0» Les masques faits maison sont-ils efficaces\\xa0contre le coronavirus\\xa0? «\\xa0Celles qui se salissent les mains pour les autres\\xa0» Roberto Saviano\\xa0: «\\xa0La faiblesse, c’est de se croire invincible\\xa0» «\\xa0Gardons-nous de tomber dans une réactivité maladive, viro-induite, sociale et politique\\xa0» La Chine, elle aussi, doit annuler des dettes africaines Le comédien Maurice Barrier est mort du\\xa0Covid-19 Coulon, Philippon, Reid… Leur livre de chevet en temps de confinement «\\xa0KGB\\xa0: le sabre et le bouclier\\xa0»\\xa0: de la Tchéka au FSB, une histoire secrète rouge sang Pour les festivals, « ce coup d’arrêt risque d’avoir une incidence durable\\xa0» Les nuits berlinoises en sommeil S’aimer comme on se confine\\xa0: «\\xa0Trois semaines à se raconter nos vies. Nos envies. Nos corps\\xa0» Cinq cocktails (sans alcool) à réaliser et à siroter avec les enfants Confinés en couple\\xa0: cultiver le désir malgré la promiscuité Newsletters du monde Applications Mobiles Abonnement Suivez Le Monde Le Monde utilise des cookies pour vous offrir une expérience utilisateur de qualité, mesurer l’audience, optimiser les fonctionnalités des réseaux sociaux et vous proposer des publicités personnalisées. En poursuivant votre navigation sur ce site, vous acceptez l’utilisation de cookies dans les conditions prévues par notre politique de confidentialité. En savoir plus et gérer les cookies.']"
      ]
     },
     "execution_count": 116,
     "metadata": {},
     "output_type": "execute_result"
    }
   ],
   "source": [
    "list(df_clean.body.loc[[2711]])"
   ]
  },
  {
   "cell_type": "code",
   "execution_count": 117,
   "metadata": {},
   "outputs": [],
   "source": [
    "# Remove all patterns related to the following message\n",
    "df_clean['body'] = df_clean['body'].str.replace(r'Consulterle journal Amazon va fermer tous ses sites en\\xa0France pour cinq jours Amazon :', '')\n",
    "df_clean['body'] = df_clean['body'].str.replace(r'Amazon va fermer tous ses sites en\\xa0France pour cinq jours Amazon :', '')"
   ]
  },
  {
   "cell_type": "code",
   "execution_count": 120,
   "metadata": {},
   "outputs": [],
   "source": [
    "df_clean = df_clean.drop(df.index[[49, 51, 63, 290, 292, 373, 380, 1020, 1092, 1119, 1141, 1155, 1208, 1342, 1344, 1345, \n",
    "                                  1346, 1357, 1358, 1360, 1372, 1373, 1385, 1400, 1442, 1607, 1645, 2172, 2226, 2638, \n",
    "                                   2699, 2771]])"
   ]
  },
  {
   "cell_type": "code",
   "execution_count": 121,
   "metadata": {},
   "outputs": [
    {
     "name": "stdout",
     "output_type": "stream",
     "text": [
      "Nombre d'observations supprimées suite au premier filtrage : 268\n"
     ]
    }
   ],
   "source": [
    "print(\"Nombre d'observations supprimées suite au premier filtrage :\", df.shape[0] - 692 - df_clean.shape[0])"
   ]
  },
  {
   "cell_type": "code",
   "execution_count": 124,
   "metadata": {},
   "outputs": [
    {
     "data": {
      "text/plain": [
       "<seaborn.axisgrid.FacetGrid at 0x1cf842559c8>"
      ]
     },
     "execution_count": 124,
     "metadata": {},
     "output_type": "execute_result"
    },
    {
     "data": {
      "image/png": "[encoded data removed]",
      "text/plain": [
       "<Figure size 360x360 with 1 Axes>"
      ]
     },
     "metadata": {},
     "output_type": "display_data"
    }
   ],
   "source": [
    "# Finally, we must take a look at our label to see the class imbalance\n",
    "sns.set(style = 'whitegrid')\n",
    "\n",
    "# Plot the information sources\n",
    "sns.catplot(x = 'true_false', \n",
    "            kind = 'count', \n",
    "            palette = 'cubehelix', \n",
    "            data = df_clean).set(title = 'Répartition des catégories du label', \n",
    "                                     xlabel = 'Label', \n",
    "                                     ylabel = 'Nombre d\\'observations')"
   ]
  },
  {
   "cell_type": "code",
   "execution_count": 125,
   "metadata": {},
   "outputs": [
    {
     "data": {
      "text/plain": [
       "(1856, 6)"
      ]
     },
     "execution_count": 125,
     "metadata": {},
     "output_type": "execute_result"
    }
   ],
   "source": [
    "df_clean.shape"
   ]
  },
  {
   "cell_type": "code",
   "execution_count": 130,
   "metadata": {},
   "outputs": [],
   "source": [
    "filename = './data/webscraped_cleaned_' + datetime.now().strftime(\"%Y-%m-%d-%H%M%S.json\")\n",
    "df_clean.to_json(filename)"
   ]
  }
 ],
 "metadata": {
  "kernelspec": {
   "display_name": "Python 3",
   "language": "python",
   "name": "python3"
  },
  "language_info": {
   "codemirror_mode": {
    "name": "ipython",
    "version": 3
   },
   "file_extension": ".py",
   "mimetype": "text/x-python",
   "name": "python",
   "nbconvert_exporter": "python",
   "pygments_lexer": "ipython3",
   "version": "3.7.4"
  }
 },
 "nbformat": 4,
 "nbformat_minor": 2
}
